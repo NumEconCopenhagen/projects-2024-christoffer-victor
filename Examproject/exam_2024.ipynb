{
 "cells": [
  {
   "cell_type": "markdown",
   "metadata": {},
   "source": [
    "**Table of contents**<a id='toc0_'></a>    \n",
    "- 1. [Problem 1: Production economy and CO2 taxation](#toc1_)    \n",
    "- 2. [Problem 2: Career choice model](#toc2_)    \n",
    "- 3. [Problem 3: Barycentric interpolation](#toc3_)    \n",
    "\n",
    "<!-- vscode-jupyter-toc-config\n",
    "\tnumbering=true\n",
    "\tanchor=true\n",
    "\tflat=false\n",
    "\tminLevel=2\n",
    "\tmaxLevel=6\n",
    "\t/vscode-jupyter-toc-config -->\n",
    "<!-- THIS CELL WILL BE REPLACED ON TOC UPDATE. DO NOT WRITE YOUR TEXT IN THIS CELL -->"
   ]
  },
  {
   "cell_type": "code",
   "execution_count": 1,
   "metadata": {},
   "outputs": [],
   "source": [
    "# Write your code here\n",
    "import numpy as np\n",
    "from types import SimpleNamespace"
   ]
  },
  {
   "cell_type": "markdown",
   "metadata": {},
   "source": [
    "## 1. <a id='toc1_'></a>[Problem 1: Production economy and CO2 taxation](#toc0_)"
   ]
  },
  {
   "cell_type": "markdown",
   "metadata": {},
   "source": [
    "Consider a production economy with two firms indexed by $j \\in \\{1,2\\}$. Each produce its own good. They solve\n",
    "\n",
    "$$\n",
    "\\begin{align*}\n",
    "\\max_{y_{j}}\\pi_{j}&=p_{j}y_{j}-w_{j}\\ell_{j}\\\\\\text{s.t.}\\;&y_{j}=A\\ell_{j}^{\\gamma}.\n",
    "\\end{align*}\n",
    "$$\n",
    "\n",
    "Optimal firm behavior is\n",
    "\n",
    "$$\n",
    "\\begin{align*}\n",
    "\\ell_{j}^{\\star}(w,p_{j})&=\\left(\\frac{p_{j}A\\gamma}{w}\\right)^{\\frac{1}{1-\\gamma}} \\\\\n",
    "y_{j}^{\\star}(w,p_{j})&=A\\left(\\ell_{j}^{\\star}(w,p_{j})\\right)^{\\gamma}\n",
    "\\end{align*}\n",
    "$$\n",
    "\n",
    "The implied profits are\n",
    "\n",
    "$$\n",
    "\\pi_{j}^*(w,p_{j})=\\frac{1-\\gamma}{\\gamma}w\\cdot\\left(\\frac{p_{j}A\\gamma}{w}\\right)^{\\frac{1}{1-\\gamma}}\n",
    "$$\n",
    "\n",
    "A single consumer supplies labor, and consumes the goods the firms produce. She also recieves the implied profits of the firm.<br>\n",
    "She solves:\n",
    "\n",
    "$$\n",
    "\\begin{align*}\n",
    "U(p_1,p_2,w,\\tau,T) = \\max_{c_{1},c_{2},\\ell} & \\log(c_{1}^{\\alpha}c_{2}^{1-\\alpha})-\\nu\\frac{\\ell^{1+\\epsilon}}{1+\\epsilon} \\\\\n",
    "\\text{s.t.}\\,\\,\\,&p_{1}c_{1}+(p_{2}+\\tau)c_{2}=w\\ell+T+\\pi_{1}^*(w,p_{1})+\\pi_{2}^*(w,p_{2})\n",
    "\\end{align*}\n",
    "$$\n",
    "\n",
    "where $\\tau$ is a tax and $T$ is lump-sum transfer. <br>\n",
    "For a given $\\ell$, it can be shown that optimal behavior is\n",
    "\n",
    "$$\n",
    "\\begin{align*}\n",
    "c_{1}(\\ell)&=\\alpha\\frac{w\\ell+T+\\pi_{1}^*(w,p_{1})+\\pi_{2}^*(w,p_{2})}{p_{1}} \\\\\n",
    "c_{2}(\\ell)&=(1-\\alpha)\\frac{w\\ell+T+\\pi_{1}^*(w,p_{1})+\\pi_{2}^*(w,p_{2})}{p_{2}+\\tau} \\\\\n",
    "\\end{align*}\n",
    "$$\n",
    "Such that optimal behavior is:\n",
    "$$\n",
    "\\ell^* = \\underset{\\ell}{\\arg\\max} \\log(\\left(c_{1}(\\ell)\\right)^{\\alpha}\\cdot \\left(c_{2}(\\ell)\\right)^{1-\\alpha})-\\nu\\frac{\\ell^{1+\\epsilon}}{1+\\epsilon} \n",
    "$$\n",
    "With optimal consumption:\n",
    "$$\n",
    "\\begin{align*}\n",
    "c_1^*=c_{1}(\\ell^*) \\\\\n",
    "c_2^*=c_{2}(\\ell^*)\\\\\n",
    "\\end{align*}\n",
    "$$\n",
    "\n",
    "\n",
    "The government chooses $\\tau$ and balances its budget so $T=\\tau c_2^*$. We initially set $\\tau,T=0$.\n",
    "\n",
    "Market clearing requires:\n",
    "\n",
    "1. Labor market: $\\ell^* = \\ell_1^* + \\ell_2^*$\n",
    "1. Good market 1: $c_1^* = y_1^*$\n",
    "1. Good market 2: $c_2^* = y_2^*$\n"
   ]
  },
  {
   "cell_type": "markdown",
   "metadata": {},
   "source": [
    "**Question 1:** Check market clearing conditions for $p_1$ in `linspace(0.1,2.0,10)` and $p_2$ in `linspace(0.1,2.0,10)`. We choose $w=1$ as numeraire."
   ]
  },
  {
   "cell_type": "code",
   "execution_count": 2,
   "metadata": {},
   "outputs": [
    {
     "name": "stdout",
     "output_type": "stream",
     "text": [
      "Errors in market clearing conditions:\n",
      "p1 = 0.1000, p2 = 0.1000, ε1 = -0.9933, ε2 = 2.9600, ε3 = 6.9734\n",
      "p1 = 0.1000, p2 = 0.3111, ε1 = -0.9645, ε2 = 3.0036, ε3 = 2.1347\n",
      "p1 = 0.1000, p2 = 0.5222, ε1 = -0.9063, ε2 = 3.0930, ε3 = 1.1432\n",
      "p1 = 0.1000, p2 = 0.7333, ε1 = -0.8194, ε2 = 3.2300, ε3 = 0.6770\n",
      "p1 = 0.1000, p2 = 0.9444, ε1 = -0.7047, ε2 = 3.4171, ε3 = 0.3844\n",
      "p1 = 0.1000, p2 = 1.1556, ε1 = -0.5632, ε2 = 3.6576, ε3 = 0.1709\n",
      "p1 = 0.1000, p2 = 1.3667, ε1 = -0.3961, ε2 = 3.9548, ε3 = 0.0004\n",
      "p1 = 0.1000, p2 = 1.5778, ε1 = -0.2044, ε2 = 4.3124, ε3 = -0.1437\n",
      "p1 = 0.1000, p2 = 1.7889, ε1 = 0.0106, ε2 = 4.7334, ε3 = -0.2705\n",
      "p1 = 0.1000, p2 = 2.0000, ε1 = 0.2481, ε2 = 5.2208, ε3 = -0.3851\n",
      "p1 = 0.3111, p2 = 0.1000, ε1 = -0.9645, ε2 = 0.8260, ε3 = 7.0751\n",
      "p1 = 0.3111, p2 = 0.3111, ε1 = -0.9357, ε2 = 0.8401, ε3 = 2.1676\n",
      "p1 = 0.3111, p2 = 0.5222, ε1 = -0.8778, ε2 = 0.8690, ε3 = 1.1631\n",
      "p1 = 0.3111, p2 = 0.7333, ε1 = -0.7912, ε2 = 0.9133, ε3 = 0.6914\n",
      "p1 = 0.3111, p2 = 0.9444, ε1 = -0.6768, ε2 = 0.9738, ε3 = 0.3959\n",
      "p1 = 0.3111, p2 = 1.1556, ε1 = -0.5358, ε2 = 1.0515, ε3 = 0.1805\n",
      "p1 = 0.3111, p2 = 1.3667, ε1 = -0.3691, ε2 = 1.1476, ε3 = 0.0088\n",
      "p1 = 0.3111, p2 = 1.5778, ε1 = -0.1780, ε2 = 1.2629, ε3 = -0.1362\n",
      "p1 = 0.3111, p2 = 1.7889, ε1 = 0.0366, ε2 = 1.3988, ε3 = -0.2637\n",
      "p1 = 0.3111, p2 = 2.0000, ε1 = 0.2736, ε2 = 1.5559, ε3 = -0.3788\n",
      "p1 = 0.5222, p2 = 0.1000, ε1 = -0.9063, ε2 = 0.3407, ε3 = 7.2837\n",
      "p1 = 0.5222, p2 = 0.3111, ε1 = -0.8778, ε2 = 0.3493, ε3 = 2.2351\n",
      "p1 = 0.5222, p2 = 0.5222, ε1 = -0.8202, ε2 = 0.3667, ε3 = 1.2039\n",
      "p1 = 0.5222, p2 = 0.7333, ε1 = -0.7342, ε2 = 0.3935, ε3 = 0.7210\n",
      "p1 = 0.5222, p2 = 0.9444, ε1 = -0.6206, ε2 = 0.4299, ε3 = 0.4194\n",
      "p1 = 0.5222, p2 = 1.1556, ε1 = -0.4804, ε2 = 0.4767, ε3 = 0.2003\n",
      "p1 = 0.5222, p2 = 1.3667, ε1 = -0.3146, ε2 = 0.5345, ε3 = 0.0260\n",
      "p1 = 0.5222, p2 = 1.5778, ε1 = -0.1245, ε2 = 0.6038, ε3 = -0.1209\n",
      "p1 = 0.5222, p2 = 1.7889, ε1 = 0.0891, ε2 = 0.6852, ε3 = -0.2498\n",
      "p1 = 0.5222, p2 = 2.0000, ε1 = 0.3251, ε2 = 0.7794, ε3 = -0.3661\n",
      "p1 = 0.7333, p2 = 0.1000, ε1 = -0.8194, ε2 = 0.0806, ε3 = 7.6032\n",
      "p1 = 0.7333, p2 = 0.3111, ε1 = -0.7912, ε2 = 0.0868, ε3 = 2.3385\n",
      "p1 = 0.7333, p2 = 0.5222, ε1 = -0.7342, ε2 = 0.0995, ε3 = 1.2662\n",
      "p1 = 0.7333, p2 = 0.7333, ε1 = -0.6490, ε2 = 0.1188, ε3 = 0.7662\n",
      "p1 = 0.7333, p2 = 0.9444, ε1 = -0.5365, ε2 = 0.1453, ε3 = 0.4553\n",
      "p1 = 0.7333, p2 = 1.1556, ε1 = -0.3975, ε2 = 0.1791, ε3 = 0.2304\n",
      "p1 = 0.7333, p2 = 1.3667, ε1 = -0.2331, ε2 = 0.2208, ε3 = 0.0521\n",
      "p1 = 0.7333, p2 = 1.5778, ε1 = -0.0444, ε2 = 0.2707, ε3 = -0.0977\n",
      "p1 = 0.7333, p2 = 1.7889, ε1 = 0.1678, ε2 = 0.3293, ε3 = -0.2288\n",
      "p1 = 0.7333, p2 = 2.0000, ε1 = 0.4025, ε2 = 0.3969, ε3 = -0.3468\n",
      "p1 = 0.9444, p2 = 0.1000, ε1 = -0.7047, ε2 = -0.1051, ε3 = 8.0399\n",
      "p1 = 0.9444, p2 = 0.3111, ε1 = -0.6768, ε2 = -0.1002, ε3 = 2.4797\n",
      "p1 = 0.9444, p2 = 0.5222, ε1 = -0.6206, ε2 = -0.0901, ε3 = 1.3513\n",
      "p1 = 0.9444, p2 = 0.7333, ε1 = -0.5365, ε2 = -0.0747, ε3 = 0.8278\n",
      "p1 = 0.9444, p2 = 0.9444, ε1 = -0.4253, ε2 = -0.0538, ε3 = 0.5041\n",
      "p1 = 0.9444, p2 = 1.1556, ε1 = -0.2879, ε2 = -0.0270, ε3 = 0.2712\n",
      "p1 = 0.9444, p2 = 1.3667, ε1 = -0.1252, ε2 = 0.0059, ε3 = 0.0876\n",
      "p1 = 0.9444, p2 = 1.5778, ε1 = 0.0618, ε2 = 0.0452, ε3 = -0.0662\n",
      "p1 = 0.9444, p2 = 1.7889, ε1 = 0.2722, ε2 = 0.0912, ε3 = -0.2003\n",
      "p1 = 0.9444, p2 = 2.0000, ε1 = 0.5052, ε2 = 0.1443, ε3 = -0.3207\n",
      "p1 = 1.1556, p2 = 0.1000, ε1 = -0.5632, ε2 = -0.2569, ε3 = 8.6010\n",
      "p1 = 1.1556, p2 = 0.3111, ε1 = -0.5358, ε2 = -0.2528, ε3 = 2.6610\n",
      "p1 = 1.1556, p2 = 0.5222, ε1 = -0.4804, ε2 = -0.2443, ε3 = 1.4605\n",
      "p1 = 1.1556, p2 = 0.7333, ε1 = -0.3975, ε2 = -0.2314, ε3 = 0.9068\n",
      "p1 = 1.1556, p2 = 0.9444, ε1 = -0.2879, ε2 = -0.2139, ε3 = 0.5666\n",
      "p1 = 1.1556, p2 = 1.1556, ε1 = -0.1523, ε2 = -0.1916, ε3 = 0.3233\n",
      "p1 = 1.1556, p2 = 1.3667, ε1 = 0.0085, ε2 = -0.1642, ε3 = 0.1326\n",
      "p1 = 1.1556, p2 = 1.5778, ε1 = 0.1934, ε2 = -0.1315, ε3 = -0.0263\n",
      "p1 = 1.1556, p2 = 1.7889, ε1 = 0.4018, ε2 = -0.0934, ε3 = -0.1643\n",
      "p1 = 1.1556, p2 = 2.0000, ε1 = 0.6328, ε2 = -0.0495, ε3 = -0.2878\n",
      "p1 = 1.3667, p2 = 0.1000, ε1 = -0.3961, ε2 = -0.3903, ε3 = 9.2946\n",
      "p1 = 1.3667, p2 = 0.3111, ε1 = -0.3691, ε2 = -0.3867, ε3 = 2.8850\n",
      "p1 = 1.3667, p2 = 0.5222, ε1 = -0.3146, ε2 = -0.3793, ε3 = 1.5952\n",
      "p1 = 1.3667, p2 = 0.7333, ε1 = -0.2331, ε2 = -0.3681, ε3 = 1.0040\n",
      "p1 = 1.3667, p2 = 0.9444, ε1 = -0.1252, ε2 = -0.3530, ε3 = 0.6433\n",
      "p1 = 1.3667, p2 = 1.1556, ε1 = 0.0085, ε2 = -0.3336, ε3 = 0.3872\n",
      "p1 = 1.3667, p2 = 1.3667, ε1 = 0.1671, ε2 = -0.3100, ε3 = 0.1878\n",
      "p1 = 1.3667, p2 = 1.5778, ε1 = 0.3498, ε2 = -0.2819, ε3 = 0.0225\n",
      "p1 = 1.3667, p2 = 1.7889, ε1 = 0.5559, ε2 = -0.2491, ε3 = -0.1204\n",
      "p1 = 1.3667, p2 = 2.0000, ε1 = 0.7848, ε2 = -0.2116, ε3 = -0.2478\n",
      "p1 = 1.5778, p2 = 0.1000, ε1 = -0.2044, ε2 = -0.5124, ε3 = 10.1289\n",
      "p1 = 1.5778, p2 = 0.3111, ε1 = -0.1780, ε2 = -0.5092, ε3 = 3.1543\n",
      "p1 = 1.5778, p2 = 0.5222, ε1 = -0.1245, ε2 = -0.5026, ε3 = 1.7569\n",
      "p1 = 1.5778, p2 = 0.7333, ε1 = -0.0444, ε2 = -0.4927, ε3 = 1.1205\n",
      "p1 = 1.5778, p2 = 0.9444, ε1 = 0.0618, ε2 = -0.4792, ε3 = 0.7351\n",
      "p1 = 1.5778, p2 = 1.1556, ε1 = 0.1934, ε2 = -0.4621, ε3 = 0.4635\n",
      "p1 = 1.5778, p2 = 1.3667, ε1 = 0.3498, ε2 = -0.4412, ε3 = 0.2533\n",
      "p1 = 1.5778, p2 = 1.5778, ε1 = 0.5302, ε2 = -0.4164, ε3 = 0.0803\n",
      "p1 = 1.5778, p2 = 1.7889, ε1 = 0.7341, ε2 = -0.3876, ε3 = -0.0685\n",
      "p1 = 1.5778, p2 = 2.0000, ε1 = 0.9607, ε2 = -0.3546, ε3 = -0.2006\n",
      "p1 = 1.7889, p2 = 0.1000, ε1 = 0.0106, ε2 = -0.6270, ε3 = 11.1113\n",
      "p1 = 1.7889, p2 = 0.3111, ε1 = 0.0366, ε2 = -0.6241, ε3 = 3.4712\n",
      "p1 = 1.7889, p2 = 0.5222, ε1 = 0.0891, ε2 = -0.6182, ε3 = 1.9470\n",
      "p1 = 1.7889, p2 = 0.7333, ε1 = 0.1678, ε2 = -0.6092, ε3 = 1.2572\n",
      "p1 = 1.7889, p2 = 0.9444, ε1 = 0.2722, ε2 = -0.5970, ε3 = 0.8425\n",
      "p1 = 1.7889, p2 = 1.1556, ε1 = 0.4018, ε2 = -0.5815, ε3 = 0.5525\n",
      "p1 = 1.7889, p2 = 1.3667, ε1 = 0.5559, ε2 = -0.5627, ε3 = 0.3298\n",
      "p1 = 1.7889, p2 = 1.5778, ε1 = 0.7341, ε2 = -0.5405, ε3 = 0.1475\n",
      "p1 = 1.7889, p2 = 1.7889, ε1 = 0.9355, ε2 = -0.5147, ε3 = -0.0083\n",
      "p1 = 1.7889, p2 = 2.0000, ε1 = 1.1599, ε2 = -0.4852, ε3 = -0.1459\n",
      "p1 = 2.0000, p2 = 0.1000, ε1 = 0.2481, ε2 = -0.7365, ε3 = 12.2485\n",
      "p1 = 2.0000, p2 = 0.3111, ε1 = 0.2736, ε2 = -0.7338, ε3 = 3.8378\n",
      "p1 = 2.0000, p2 = 0.5222, ε1 = 0.3251, ε2 = -0.7283, ε3 = 2.1667\n",
      "p1 = 2.0000, p2 = 0.7333, ε1 = 0.4025, ε2 = -0.7200, ε3 = 1.4149\n",
      "p1 = 2.0000, p2 = 0.9444, ε1 = 0.5052, ε2 = -0.7089, ε3 = 0.9663\n",
      "p1 = 2.0000, p2 = 1.1556, ε1 = 0.6328, ε2 = -0.6948, ε3 = 0.6549\n",
      "p1 = 2.0000, p2 = 1.3667, ε1 = 0.7848, ε2 = -0.6776, ε3 = 0.4174\n",
      "p1 = 2.0000, p2 = 1.5778, ε1 = 0.9607, ε2 = -0.6574, ε3 = 0.2244\n",
      "p1 = 2.0000, p2 = 1.7889, ε1 = 1.1599, ε2 = -0.6340, ε3 = 0.0604\n",
      "p1 = 2.0000, p2 = 2.0000, ε1 = 1.3820, ε2 = -0.6073, ε3 = -0.0837\n"
     ]
    }
   ],
   "source": [
    "import itertools\n",
    "from Productioneconomy import ProductionEconomyClass\n",
    "\n",
    "model = ProductionEconomyClass()\n",
    "\n",
    "par = model.par\n",
    "\n",
    "p_range = np.linspace(0.1, 2.0, 10)\n",
    "\n",
    "eps_1 = []\n",
    "eps_2 = []\n",
    "eps_3 = []\n",
    "\n",
    "# We calculate the deviations for all combinations of p1 and p2\n",
    "for p1 in p_range:\n",
    "    for p2 in p_range:\n",
    "        eps1, eps2, eps3 = model.check_market_clearing(p1, p2)\n",
    "        eps_1.append(eps1)\n",
    "        eps_2.append(eps2)\n",
    "        eps_3.append(eps3)\n",
    "\n",
    "print(\"Errors in market clearing conditions:\")\n",
    "# Adjusted printing to account for all combinations\n",
    "for i, (p1, p2) in enumerate(itertools.product(p_range, repeat=2)):\n",
    "    print(f\"p1 = {p1:.4f}, p2 = {p2:.4f}, ε1 = {eps_1[i]:.4f}, ε2 = {eps_2[i]:.4f}, ε3 = {eps_3[i]:.4f}\")"
   ]
  },
  {
   "cell_type": "markdown",
   "metadata": {},
   "source": [
    "**Question 2:** Find the equilibrium prices $p_1$ and $p_2$.<br>\n",
    "*Hint: you can use Walras' law to only check 2 of the market clearings*"
   ]
  },
  {
   "cell_type": "code",
   "execution_count": 3,
   "metadata": {},
   "outputs": [
    {
     "name": "stdout",
     "output_type": "stream",
     "text": [
      "Optimal p1: 0.9759307184567577, Optimal p2: 1.4907590125046286\n"
     ]
    }
   ],
   "source": [
    "p1_opt, p2_opt = model.find_market_equilibrium()\n",
    "print(f\"Optimal p1: {p1_opt}, Optimal p2: {p2_opt}\")\n"
   ]
  },
  {
   "cell_type": "markdown",
   "metadata": {},
   "source": [
    "Assume the government care about the social welfare function:\n",
    "\n",
    "$$\n",
    "SWF = U - \\kappa y_2^*\n",
    "$$"
   ]
  },
  {
   "cell_type": "markdown",
   "metadata": {},
   "source": [
    "Here $\\kappa$ measures the social cost of carbon emitted by the production of $y_2$ in equilibrium."
   ]
  },
  {
   "cell_type": "markdown",
   "metadata": {},
   "source": [
    "**Question 3:** What values of $\\tau$ and (implied) $T$ should the government choose to maximize $SWF$?"
   ]
  },
  {
   "cell_type": "code",
   "execution_count": 4,
   "metadata": {},
   "outputs": [],
   "source": [
    "# write your answer here"
   ]
  },
  {
   "cell_type": "markdown",
   "metadata": {},
   "source": [
    "## 2. <a id='toc2_'></a>[Problem 2: Career choice model](#toc0_)"
   ]
  },
  {
   "cell_type": "markdown",
   "metadata": {},
   "source": [
    "Consider a graduate $i$ making a choice between entering $J$ different career tracks. <br>\n",
    "Entering career $j$ yields utility $u^k_{ij}$. This value is unknown to the graduate ex ante, but will ex post be: <br>\n",
    "$$\n",
    "    u_{i,j}^k = v_{j} + \\epsilon_{i,j}^k\n",
    "$$\n",
    "\n",
    "They know that $\\epsilon^k_{i,j}\\sim \\mathcal{N}(0,\\sigma^2)$, but they do not observe $\\epsilon^k_{i,j}$ before making their career choice. <br>"
   ]
  },
  {
   "cell_type": "markdown",
   "metadata": {},
   "source": [
    "Consider the concrete case of $J=3$ with:\n",
    "$$\n",
    "\\begin{align*}\n",
    "    v_{1} &= 1 \\\\\n",
    "    v_{2} &= 2 \\\\\n",
    "    v_{3} &= 3\n",
    "\\end{align*}\n",
    "$$"
   ]
  },
  {
   "cell_type": "markdown",
   "metadata": {},
   "source": [
    "If the graduates know the values of $v_j$ and the distribution of $\\epsilon_{i,j}^k$, they can calculate the expected utility of each career track using simulation: <br>\n",
    "$$\n",
    "    \\mathbb{E}\\left[ u^k_{i,j}\\vert v_j \\right] \\approx v_j + \\frac{1}{K}\\sum_{k=1}^K \\epsilon_{i,j}^k\n",
    "$$"
   ]
  },
  {
   "cell_type": "code",
   "execution_count": 5,
   "metadata": {},
   "outputs": [],
   "source": [
    "par = SimpleNamespace()\n",
    "par.J = 3\n",
    "par.N = 10\n",
    "par.K = 10000\n",
    "\n",
    "par.F = np.arange(1,par.N+1)\n",
    "par.sigma = 2\n",
    "\n",
    "par.v = np.array([1,2,3])\n",
    "par.c = 1"
   ]
  },
  {
   "cell_type": "markdown",
   "metadata": {},
   "source": [
    "**Question 1:** Simulate and calculate expected utility and the average realised utility for $K=10000$ draws, for each career choice $j$.\n"
   ]
  },
  {
   "cell_type": "code",
   "execution_count": 6,
   "metadata": {},
   "outputs": [],
   "source": [
    "# write your answer here"
   ]
  },
  {
   "cell_type": "markdown",
   "metadata": {},
   "source": [
    "Now consider a new scenario: Imagine that the graduate does not know $v_j$. The *only* prior information they have on the value of each job, comes from their $F_{i}$ friends that work in each career $j$. After talking with them, they know the average utility of their friends (which includes their friends' noise term), giving them the prior expecation: <br>\n",
    "$$\n",
    "\\tilde{u}^k_{i,j}\\left( F_{i}\\right) = \\frac{1}{F_{i}}\\sum_{f=1}^{F_{i}} \\left(v_{j} + \\epsilon^k_{f,j}\\right), \\; \\epsilon^k_{f,j}\\sim \\mathcal{N}(0,\\sigma^2)\n",
    "$$\n",
    "For ease of notation consider that each graduate have $F_{i}=i$ friends in each career. <br>"
   ]
  },
  {
   "cell_type": "markdown",
   "metadata": {},
   "source": [
    "For $K$ times do the following: <br>\n",
    "1. For each person $i$ draw $J\\cdot F_i$ values of $\\epsilon_{f,j}^{k}$, and calculate the prior expected utility of each career track, $\\tilde{u}^k_{i,j}\\left( F_{i}\\right)$. <br>\n",
    "Also draw their own $J$ noise terms, $\\epsilon_{i,j}^k$\n",
    "1. Each person $i$ chooses the career track with the highest expected utility: $$j_i^{k*}= \\arg\\max_{j\\in{1,2\\dots,J}}\\left\\{ \\tilde{u}^k_{i,j}\\left( F_{i}\\right)\\right\\} $$\n",
    "1. Store the chosen careers: $j_i^{k*}$, the prior expectation of the value of their chosen career: $\\tilde{u}^k_{i,j=j_i^{k*}}\\left( F_{i}\\right)$, and the realized value of their chosen career track: $u^k_{i,j=j_i^{k*}}=v_{j=j_i^{k*}}+\\epsilon_{i,j=j_i^{k*}}^k$."
   ]
  },
  {
   "cell_type": "markdown",
   "metadata": {},
   "source": [
    "Chosen values will be: <br>\n",
    "$i\\in\\left\\{1,2\\dots,N\\right\\}, N=10$ <br>\n",
    "$F_i = i$<br>\n",
    "So there are 10 graduates. The first has 1 friend in each career, the second has 2 friends, ... the tenth has 10 friends."
   ]
  },
  {
   "cell_type": "markdown",
   "metadata": {},
   "source": [
    "**Question 2:** Simulate and visualize: For each type of graduate, $i$, the share of graduates choosing each career, the average subjective expected utility of the graduates, and the average ex post realized utility given their choice. <br>\n",
    "That is, calculate and visualize: <br>\n",
    "$$\n",
    "\\begin{align*}\n",
    "    \\frac{1}{K} \\sum_{k=1}^{K} \\mathbb{I}\\left\\{ j=j_i^{k*} \\right\\}  \\;\\forall j\\in\\left\\{1,2,\\dots,J\\right\\}\n",
    "\\end{align*}\n",
    "$$\n",
    "$$\n",
    "\\begin{align*}\n",
    "    \\frac{1}{K} \\sum_{k=1}^{K} \\tilde{u}^k_{ij=j_i^{k*}}\\left( F_{i}\\right)\n",
    "\\end{align*}\n",
    "$$\n",
    "And \n",
    "$$\n",
    "\\begin{align*}\n",
    "    \\frac{1}{K} \\sum_{k=1}^{K} u^k_{ij=j_i^{k*}} \n",
    "\\end{align*}\n",
    "$$\n",
    "For each graduate $i$."
   ]
  },
  {
   "cell_type": "code",
   "execution_count": 7,
   "metadata": {},
   "outputs": [],
   "source": [
    "# Write your answer here "
   ]
  },
  {
   "cell_type": "markdown",
   "metadata": {},
   "source": [
    "After a year of working in their career, the graduates learn $u^k_{ij}$ for their chosen job $j_i^{k*}$ perfectly. <br>\n",
    "The can switch to one of the two remaining careers, for which they have the same prior as before, but it will now include a switching cost of $c$ which is known.\n",
    "Their new priors can be written as: \n",
    "$$\n",
    "\\tilde{u}^{k,2}_{ij}\\left( F_{i}\\right) = \\begin{cases}\n",
    "            \\tilde{u}^k_{ij}\\left( F_{i}\\right)-c & \\text{if } j \\neq j_i^{k*} \\\\\n",
    "            u_{ij=j_i^{k*}} & \\text{if } j = j_i^{k*}\n",
    "        \\end{cases}\n",
    "$$"
   ]
  },
  {
   "cell_type": "markdown",
   "metadata": {},
   "source": [
    "We will set $c=1$."
   ]
  },
  {
   "cell_type": "markdown",
   "metadata": {},
   "source": [
    "Their realized utility will be: <br>\n",
    "$$\n",
    "u^{k,2}_{ij}= \\begin{cases}\n",
    "            u_{ij}^k -c & \\text{if } j \\neq j_i^{k*} \\\\\n",
    "            u_{ij=j_i^{k*}} & \\text{if } j = j_i^{k*}\n",
    "        \\end{cases}\n",
    "$$"
   ]
  },
  {
   "cell_type": "markdown",
   "metadata": {},
   "source": [
    "**Question 3:** Following the same approach as in question 2, find the new optimal career choice for each $i$, $k$. Then for each $i$, calculate the average subjective expected utility from their new optimal career choice, and the ex post realized utility of that career. Also, for each $i$, calculate the share of graduates that chooses to switch careers, conditional on which career they chose in the first year. <br>"
   ]
  },
  {
   "cell_type": "code",
   "execution_count": 8,
   "metadata": {},
   "outputs": [],
   "source": [
    "# write your answer here"
   ]
  },
  {
   "cell_type": "markdown",
   "metadata": {},
   "source": [
    "## 3. <a id='toc3_'></a>[Problem 3: Barycentric interpolation](#toc0_)"
   ]
  },
  {
   "cell_type": "markdown",
   "metadata": {},
   "source": [
    "**Problem:** We have a set of random points in the unit square,\n",
    "\n",
    "$$\n",
    "\\mathcal{X} = \\{(x_1,x_2)\\,|\\,x_1\\sim\\mathcal{U}(0,1),x_2\\sim\\mathcal{U}(0,1)\\}.\n",
    "$$\n",
    "\n",
    "For these points, we know the value of some function $f(x_1,x_2)$,\n",
    "\n",
    "$$\n",
    "\\mathcal{F} = \\{f(x_1,x_2) \\,|\\, (x_1,x_2) \\in \\mathcal{X}\\}.\n",
    "$$\n",
    "\n",
    "Now we want to approximate the value $f(y_1,y_2)$ for some  $y=(y_1,y_2)$, where $y_1\\sim\\mathcal{U}(0,1)$ and $y_2\\sim\\mathcal{U}(0,1)$.\n",
    "\n",
    "**Building block I**\n",
    "\n",
    "For an arbitrary triangle $ABC$ and a point $y$, define the so-called barycentric coordinates as:\n",
    "\n",
    "$$\n",
    "\\begin{align*}\n",
    "  r^{ABC}_1 &= \\frac{(B_2-C_2)(y_1-C_1) + (C_1-B_1)(y_2-C_2)}{(B_2-C_2)(A_1-C_1) + (C_1-B_1)(A_2-C_2)} \\\\\n",
    "  r^{ABC}_2 &= \\frac{(C_2-A_2)(y_1-C_1) + (A_1-C_1)(y_2-C_2)}{(B_2-C_2)(A_1-C_1) + (C_1-B_1)(A_2-C_2)} \\\\\n",
    "  r^{ABC}_3 &= 1 - r_1 - r_2.\n",
    "\\end{align*}\n",
    "$$\n",
    "\n",
    "If $r^{ABC}_1 \\in [0,1]$, $r^{ABC}_2 \\in [0,1]$, and $r^{ABC}_3 \\in [0,1]$, then the point is inside the triangle.\n",
    "\n",
    "We always have $y = r^{ABC}_1 A + r^{ABC}_2 B + r^{ABC}_3 C$.\n",
    "\n",
    "**Building block II**\n",
    "\n",
    "Define the following points:\n",
    "\n",
    "$$\n",
    "\\begin{align*}\n",
    "A&=\\arg\\min_{(x_{1},x_{2})\\in\\mathcal{X}}\\sqrt{\\left(x_{1}-y_{1}\\right)^{2}+\\left(x_{2}-y_{2}\\right)^{2}}\\text{ s.t. }x_{1}>y_{1}\\text{ and }x_{2}>y_{2}\\\\\n",
    "B&=\\arg\\min_{(x_{1},x_{2})\\in\\mathcal{X}}\\sqrt{\\left(x_{1}-y_{1}\\right)^{2}+\\left(x_{2}-y_{2}\\right)^{2}}\\text{ s.t. }x_{1}>y_{1}\\text{ and }x_{2}<y_{2}\\\\\n",
    "C&=\\arg\\min_{(x_{1},x_{2})\\in\\mathcal{X}}\\sqrt{\\left(x_{1}-y_{1}\\right)^{2}+\\left(x_{2}-y_{2}\\right)^{2}}\\text{ s.t. }x_{1}<y_{1}\\text{ and }x_{2}<y_{2}\\\\\n",
    "D&=\\arg\\min_{(x_{1},x_{2})\\in\\mathcal{X}}\\sqrt{\\left(x_{1}-y_{1}\\right)^{2}+\\left(x_{2}-y_{2}\\right)^{2}}\\text{ s.t. }x_{1}<y_{1}\\text{ and }x_{2}>y_{2}.\n",
    "\\end{align*}\n",
    "$$\n",
    "\n",
    "**Algorithm:**\n",
    "\n",
    "1. Compute $A$, $B$, $C$, and $D$. If not possible return `NaN`.\n",
    "1. If $y$ is inside the triangle $ABC$ return $r^{ABC}_1 f(A) + r^{ABC}_2 f(B) + r^{ABC}_3 f(C)$.\n",
    "1. If $y$ is inside the triangle $CDA$ return $r^{CDA}_1 f(C) + r^{CDA}_2 f(D) + r^{CDA}_3 f(A)$.\n",
    "1. Return `NaN`.\n",
    "\n"
   ]
  },
  {
   "cell_type": "markdown",
   "metadata": {},
   "source": [
    "**Sample:**"
   ]
  },
  {
   "cell_type": "code",
   "execution_count": 9,
   "metadata": {},
   "outputs": [],
   "source": [
    "rng = np.random.default_rng(2024)\n",
    "\n",
    "X = rng.uniform(size=(50,2))\n",
    "y = rng.uniform(size=(2,))\n"
   ]
  },
  {
   "cell_type": "markdown",
   "metadata": {},
   "source": [
    "**Questions 1:** Find $A$, $B$, $C$ and $D$. Illustrate these together with $X$, $y$ and the triangles $ABC$ and $CDA$."
   ]
  },
  {
   "cell_type": "code",
   "execution_count": 10,
   "metadata": {},
   "outputs": [],
   "source": [
    "# write your answer here"
   ]
  },
  {
   "cell_type": "markdown",
   "metadata": {},
   "source": [
    "**Question 2:** Compute the barycentric coordinates of the point $y$ with respect to the triangles $ABC$ and $CDA$. Which triangle is $y$ located inside?"
   ]
  },
  {
   "cell_type": "code",
   "execution_count": 11,
   "metadata": {},
   "outputs": [],
   "source": [
    "# write your answer here"
   ]
  },
  {
   "cell_type": "markdown",
   "metadata": {},
   "source": [
    "Now consider the function:\n",
    "$$\n",
    "f(x_1,x_2) = x_1 \\cdot x_2\n",
    "$$"
   ]
  },
  {
   "cell_type": "code",
   "execution_count": 12,
   "metadata": {},
   "outputs": [],
   "source": [
    "f = lambda x: x[0]*x[1]\n",
    "F = np.array([f(x) for x in X])"
   ]
  },
  {
   "cell_type": "markdown",
   "metadata": {},
   "source": [
    "**Question 3:** Compute the approximation of $f(y)$ using the full algorithm. Compare with the true value."
   ]
  },
  {
   "cell_type": "code",
   "execution_count": 13,
   "metadata": {},
   "outputs": [],
   "source": [
    "# write your answer here"
   ]
  },
  {
   "cell_type": "markdown",
   "metadata": {},
   "source": [
    "**Question 4:** Repeat question 3 for all points in the set $Y$."
   ]
  },
  {
   "cell_type": "code",
   "execution_count": 14,
   "metadata": {},
   "outputs": [],
   "source": [
    "Y = [(0.2,0.2),(0.8,0.2),(0.8,0.8),(0.8,0.2),(0.5,0.5)]"
   ]
  },
  {
   "cell_type": "code",
   "execution_count": 15,
   "metadata": {},
   "outputs": [],
   "source": [
    "# write your answer here"
   ]
  }
 ],
 "metadata": {
  "kernelspec": {
   "display_name": "base",
   "language": "python",
   "name": "python3"
  },
  "language_info": {
   "codemirror_mode": {
    "name": "ipython",
    "version": 3
   },
   "file_extension": ".py",
   "mimetype": "text/x-python",
   "name": "python",
   "nbconvert_exporter": "python",
   "pygments_lexer": "ipython3",
   "version": "3.11.7"
  }
 },
 "nbformat": 4,
 "nbformat_minor": 2
}
