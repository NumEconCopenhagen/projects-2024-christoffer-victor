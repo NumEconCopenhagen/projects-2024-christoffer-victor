{
 "cells": [
  {
   "cell_type": "markdown",
   "metadata": {},
   "source": [
    "# Model project: A Solow-Swan model with endogenous growth "
   ]
  },
  {
   "cell_type": "markdown",
   "metadata": {},
   "source": [
    "Imports and set magics:"
   ]
  },
  {
   "cell_type": "code",
   "execution_count": 3,
   "metadata": {},
   "outputs": [],
   "source": [
    "import numpy as np\n",
    "from scipy import optimize\n",
    "import sympy as sm\n",
    "from IPython.display import display\n",
    "from scipy.optimize import brentq\n",
    "import matplotlib.pyplot as plt\n",
    "\n",
    "\n",
    "# autoreload modules when code is run\n",
    "%load_ext autoreload\n",
    "%autoreload 2"
   ]
  },
  {
   "cell_type": "markdown",
   "metadata": {},
   "source": [
    "# Model description"
   ]
  },
  {
   "cell_type": "markdown",
   "metadata": {},
   "source": [
    "The following model is the Solow-Swan model extended to include semi-endogenous growth of technology. In steady-state the level of GDP per worker is highly dependent on the growth of technology, and therefore it is interesting to examine the case of endogenous growth. "
   ]
  },
  {
   "cell_type": "markdown",
   "metadata": {},
   "source": [
    "*The four equations of the model are:* \n",
    "\n",
    "$Y_t = K_t^\\alpha (A_t L_t)^{1-\\alpha}$\n",
    " \n",
    "$A_t=K_t^\\phi , \\phi<1$\n",
    "\n",
    "$K_{t+1}=sY_t+(1-\\delta)K_t$\n",
    "\n",
    "$L_{t+1}=(1+n)L_t$\n",
    "\n",
    "\n",
    "$Y_t$ is output, $K_t$ is capital, $A_t$ is technology and $L_t$ is the labor force. These are the variables of the model. The parameters are $\\alpha, \\phi, s, \\delta, n$, where $\\alpha$ is the output elasticity of capital and labor, $\\phi$ is the return from capital to the technological level, $\\delta$ is the depreciation of capital, n is the growth of labor. s is the savings which is equal to investments, since it is a closed economy. "
   ]
  },
  {
   "cell_type": "markdown",
   "metadata": {},
   "source": [
    "## Analytical solution"
   ]
  },
  {
   "cell_type": "markdown",
   "metadata": {},
   "source": [
    "To solve the model we have to find the steady state value for k and y. We need to define the model in terms of effective labor units. By doing so and substituting technology and labor into the production function and capital accumulation function our model consists of two equations. Lower case letters implies a variable in terms of effective labor units."
   ]
  },
  {
   "cell_type": "code",
   "execution_count": 4,
   "metadata": {},
   "outputs": [
    {
     "data": {
      "text/latex": [
       "$\\displaystyle y_{t} = k_{t}^{\\alpha}$"
      ],
      "text/plain": [
       "Eq(y_t, k_t**alpha)"
      ]
     },
     "metadata": {},
     "output_type": "display_data"
    },
    {
     "data": {
      "text/latex": [
       "$\\displaystyle \\frac{k_{t+1}}{k_{t}} = \\frac{\\left(- \\delta + 1 + \\frac{s y_{t}}{k_{t}}\\right)^{1 - \\phi}}{n + 1}$"
      ],
      "text/plain": [
       "Eq(k_t+1/k_t, (-delta + 1 + s*y_t/k_t)**(1 - phi)/(n + 1))"
      ]
     },
     "metadata": {},
     "output_type": "display_data"
    }
   ],
   "source": [
    "# Variables and parameters defined to be shown in equations\n",
    "\n",
    "alpha = sm.symbols(\"alpha\")\n",
    "phi = sm.symbols(\"phi\")\n",
    "delta = sm.symbols(\"delta\")\n",
    "s = sm.symbols(\"s\")\n",
    "n = sm.symbols(\"n\")\n",
    "ke = sm.symbols(\"k_t\")\n",
    "ke1 = sm.symbols(\"k_t+1\")\n",
    "ye = sm.symbols(\"y_t\")\n",
    "kss = sm.symbols(\"k^*\")\n",
    "yss = sm.symbols(\"y^*\")\n",
    "\n",
    "# Equations defined in effective labor units\n",
    "\n",
    "Production = sm.Eq(ye, ke**alpha)\n",
    "Capitalacc = sm.Eq(ke1/ke, (1/(1+n))*(s*ye/ke+(1-delta))**(1-phi))\n",
    "\n",
    "display(Production)\n",
    "display(Capitalacc)"
   ]
  },
  {
   "cell_type": "markdown",
   "metadata": {},
   "source": [
    "We use SymPy to calculate the steady state values for y and k by substituting the steady state value for k and y into their respectively variables with time subscripts. We can then solve for the steady state value of k by using the solve function. To find the steady state value of y we substitute the steady state value of k into the production function."
   ]
  },
  {
   "cell_type": "code",
   "execution_count": 5,
   "metadata": {},
   "outputs": [
    {
     "data": {
      "text/latex": [
       "$\\displaystyle k^{*} = \\left(\\frac{\\delta - 1 + \\left(n + 1\\right)^{- \\frac{1}{\\phi - 1}}}{s}\\right)^{\\frac{1}{\\alpha - 1}}$"
      ],
      "text/plain": [
       "Eq(k^*, ((delta - 1 + (n + 1)**(-1/(phi - 1)))/s)**(1/(alpha - 1)))"
      ]
     },
     "metadata": {},
     "output_type": "display_data"
    },
    {
     "data": {
      "text/latex": [
       "$\\displaystyle y^{*} = \\left(\\left(\\frac{\\delta - 1 + \\left(n + 1\\right)^{- \\frac{1}{\\phi - 1}}}{s}\\right)^{\\frac{1}{\\alpha - 1}}\\right)^{\\alpha}$"
      ],
      "text/plain": [
       "Eq(y^*, (((delta - 1 + (n + 1)**(-1/(phi - 1)))/s)**(1/(alpha - 1)))**alpha)"
      ]
     },
     "metadata": {},
     "output_type": "display_data"
    }
   ],
   "source": [
    "Calc = Capitalacc.subs(ye, Production.rhs)\n",
    "Transition = sm.Eq(Calc.lhs * ke, Calc.rhs * ke)\n",
    "sst = sm.Eq(kss, ke)\n",
    "sst1 = sm.Eq(kss, ke1)\n",
    "ysst = sm.Eq(yss, ye)\n",
    "\n",
    "Transition_ss = Transition.subs({ke: sst.lhs, ke1: sst1.lhs})\n",
    "Productione_ss = Production.subs({ye: ysst.lhs, ke: sst.lhs})\n",
    "\n",
    "k_sssolve = sm.solve(Transition_ss, kss)\n",
    "y_ss = Productione_ss.subs(kss, k_sssolve[0])\n",
    "k_ss = sm.Eq(kss, k_sssolve[0])\n",
    "\n",
    "display(k_ss)\n",
    "display(y_ss)"
   ]
  },
  {
   "cell_type": "markdown",
   "metadata": {},
   "source": [
    "We want to find a value for k and y in the steady state and to do that we define the steady state equations as functions and thereafter we use parametervalues to find a value."
   ]
  },
  {
   "cell_type": "code",
   "execution_count": 6,
   "metadata": {},
   "outputs": [
    {
     "name": "stdout",
     "output_type": "stream",
     "text": [
      "The steady state value of capital is 1.18\n",
      "The steady state value of output is 1.06\n"
     ]
    }
   ],
   "source": [
    "k_ss_func = sm.lambdify(args=(s,alpha,delta,phi,n),expr=k_sssolve[0])\n",
    "y_ss_func = sm.lambdify(args=(s,alpha,delta,phi,n),expr=y_ss.rhs)\n",
    "\n",
    "# The parameter values are defined as follows\n",
    "s_val = 0.101\n",
    "alpha_val = 0.33\n",
    "delta_val = 0.05\n",
    "phi_val = 0.5\n",
    "n_val = 0.02\n",
    "\n",
    "solk = k_ss_func(s_val,alpha_val,delta_val,phi_val,n_val)\n",
    "soly = y_ss_func(s_val,alpha_val,delta_val,phi_val,n_val)\n",
    "\n",
    "print(f\"The steady state value of capital is {solk:.2f}\")\n",
    "print(f\"The steady state value of output is {soly:.2f}\")"
   ]
  },
  {
   "cell_type": "markdown",
   "metadata": {},
   "source": [
    "## Numerical solution"
   ]
  },
  {
   "cell_type": "code",
   "execution_count": 7,
   "metadata": {},
   "outputs": [
    {
     "name": "stdout",
     "output_type": "stream",
     "text": [
      "The steady state value of capital is 1.18\n",
      "The steady state value of output is 1.06\n"
     ]
    }
   ],
   "source": [
    "# Define the function for which we want to find the roots\n",
    "def f(k):\n",
    "    return k - k/(1+n_val) * (s_val * k**(alpha_val - 1) + 1 - delta_val)**(1 - phi_val)\n",
    "\n",
    "# Find the root of the function\n",
    "k = brentq(f, 0.01, 100)\n",
    "\n",
    "y = k**alpha_val\n",
    "\n",
    "# Now, k is the solution to the equation\n",
    "print(f\"The steady state value of capital is {k:.2f}\")\n",
    "print(f\"The steady state value of output is {y:.2f}\")"
   ]
  },
  {
   "cell_type": "code",
   "execution_count": 8,
   "metadata": {},
   "outputs": [
    {
     "data": {
      "image/png": "[encoded data removed]",
      "text/plain": [
       "<Figure size 1000x600 with 1 Axes>"
      ]
     },
     "metadata": {},
     "output_type": "display_data"
    }
   ],
   "source": [
    "phi_vec = np.arange(0, 0.99, 0.01)\n",
    "\n",
    "# Define the function for which we want to find the roots\n",
    "def f(k_phi, phi_val):\n",
    "    return k_phi - k_phi/(1+n_val) * (s_val * k_phi**(alpha_val - 1) + 1 - delta_val)**(1 - phi_val)\n",
    "\n",
    "# Lists to store the values of k_phi and y_phi\n",
    "k_values = []\n",
    "y_values = []\n",
    "\n",
    "# Loop over different values of phi_val\n",
    "for phi_val in phi_vec:\n",
    "    # Find the root of the function\n",
    "    k_phi = brentq(f, 0.01, 100, args=(phi_val,))\n",
    "    y_phi = k_phi**alpha_val\n",
    "    # Append the values to the lists\n",
    "    k_values.append(k_phi)\n",
    "    y_values.append(y_phi)\n",
    "\n",
    "# Create a line plot\n",
    "plt.figure(figsize=(10, 6))\n",
    "plt.plot(phi_vec, k_values, label='Capital')\n",
    "plt.plot(phi_vec, y_values, label='Output')\n",
    "plt.xlabel('Phi')\n",
    "plt.ylabel('Steady State Value')\n",
    "plt.legend()\n",
    "plt.grid(True)\n",
    "plt.show()"
   ]
  },
  {
   "cell_type": "markdown",
   "metadata": {},
   "source": [
    "# Further analysis"
   ]
  },
  {
   "cell_type": "markdown",
   "metadata": {},
   "source": [
    "Make detailed vizualizations of how your model changes with parameter values. \n",
    "\n",
    "Try to make an extension of the model. "
   ]
  },
  {
   "cell_type": "markdown",
   "metadata": {},
   "source": [
    "# Conclusion"
   ]
  },
  {
   "cell_type": "markdown",
   "metadata": {},
   "source": [
    "Add concise conclusion. "
   ]
  }
 ],
 "metadata": {
  "kernelspec": {
   "display_name": "base",
   "language": "python",
   "name": "python3"
  },
  "language_info": {
   "codemirror_mode": {
    "name": "ipython",
    "version": 3
   },
   "file_extension": ".py",
   "mimetype": "text/x-python",
   "name": "python",
   "nbconvert_exporter": "python",
   "pygments_lexer": "ipython3",
   "version": "3.11.7"
  },
  "toc-autonumbering": true,
  "vscode": {
   "interpreter": {
    "hash": "47ef90cdf3004d3f859f1fb202523c65c07ba7c22eefd261b181f4744e2d0403"
   }
  }
 },
 "nbformat": 4,
 "nbformat_minor": 4
}
