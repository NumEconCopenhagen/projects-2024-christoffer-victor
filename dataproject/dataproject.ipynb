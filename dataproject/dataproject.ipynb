{
 "cells": [
  {
   "cell_type": "markdown",
   "metadata": {},
   "source": [
    "# Data project"
   ]
  },
  {
   "cell_type": "markdown",
   "metadata": {},
   "source": [
    "**Our project is titled Data Project and is about whether different economic terms are procyclical or countercyclical compared to GDP. Procyclical is a term for when a variable grows with GDP where countercyclical means that the variable has the opposite growth of GDP. The economic terms consists of the components from the national account (private consumption, public consumption, investment and net exports) and the employment level. The data is from Denmark in the period 2000-2023. The data analysis is performed by a visual comparison with GDP and the economic terms.**"
   ]
  },
  {
   "cell_type": "markdown",
   "metadata": {},
   "source": [
    "# Imports"
   ]
  },
  {
   "cell_type": "code",
   "execution_count": 1,
   "metadata": {},
   "outputs": [],
   "source": [
    "import pandas as pd\n",
    "import matplotlib.pyplot as plt\n",
    "import ipywidgets as widgets\n",
    "import bqplot as bq\n",
    "from IPython.display import display\n",
    "import plotly.graph_objects as go\n",
    "\n",
    "%load_ext autoreload\n",
    "%autoreload 2"
   ]
  },
  {
   "cell_type": "markdown",
   "metadata": {},
   "source": [
    "# Import data sets"
   ]
  },
  {
   "cell_type": "markdown",
   "metadata": {},
   "source": [
    "We get data from statistikbanken.dk/NKN1 even though the two data sets are from the same source we could not get an output in one file and therefore we have to do it manually in Python. We import two files with danish data from 2000 to 2023. The first file contains the components of the national accounts, and the other has the level of employment. Since our files use danish notation we make sure python knows what the symbols for seperator and decimal are. Lastly we combine the two files. As both files are from the same source we can run the same code on both files to clean the data"
   ]
  },
  {
   "cell_type": "code",
   "execution_count": 2,
   "metadata": {},
   "outputs": [],
   "source": [
    "# a. We import the datasets\n",
    "NKN1a = pd.read_csv('NKN1a.csv', sep=\";\", decimal=\",\", skiprows=2 )\n",
    "NKN1a = NKN1a.iloc[:-2]\n",
    "drop = ['Unnamed: ' + str(num) for num in range(2)]\n",
    "NKN1a.drop(drop, axis=1, inplace=True)\n",
    "NKN1a_transposed = NKN1a.T\n",
    "NKN1a_transposed = NKN1a_transposed.iloc[1:]\n",
    "NKN1a_transposed = NKN1a_transposed.reset_index()\n",
    "NKN1a_transposed.rename(columns = {'index':'Date', 0:'Y', 1:'M', 2:'X', 3:'C', 4:'G', 5:'I'}, inplace=True)\n",
    "\n",
    "NKN1b = pd.read_csv('NKN1b.csv', sep=\";\", decimal=\",\", skiprows=2 )\n",
    "NKN1b = NKN1b.iloc[:-2]\n",
    "drop = ['Unnamed: ' + str(num) for num in range(2)]\n",
    "NKN1b.drop(drop, axis=1, inplace=True)\n",
    "NKN1b_transposed = NKN1b.T\n",
    "NKN1b_transposed = NKN1b_transposed.iloc[1:]\n",
    "NKN1b_transposed = NKN1b_transposed.reset_index()\n",
    "NKN1b_transposed.rename(columns = {'index':'Date', 0:'N'}, inplace=True)\n",
    "\n",
    "# b. We select the desired columns from the both datasets\n",
    "NKN1a_selected = NKN1a_transposed[['Date','Y', 'M', 'X', 'C', 'G', 'I']]\n",
    "NKN1b_selected = NKN1b_transposed[['N']]\n"
   ]
  },
  {
   "cell_type": "markdown",
   "metadata": {},
   "source": [
    "# Data exploration"
   ]
  },
  {
   "cell_type": "markdown",
   "metadata": {},
   "source": [
    "We concatenate the two datasets. We change the format of the 'Date' column such that it is written only in numbers.We construct a new variable NX from the two variables X and M. We make an interactive figure to illustrate the different components of the data set. "
   ]
  },
  {
   "cell_type": "code",
   "execution_count": 3,
   "metadata": {},
   "outputs": [
    {
     "data": {
      "text/html": [
       "<div>\n",
       "<style scoped>\n",
       "    .dataframe tbody tr th:only-of-type {\n",
       "        vertical-align: middle;\n",
       "    }\n",
       "\n",
       "    .dataframe tbody tr th {\n",
       "        vertical-align: top;\n",
       "    }\n",
       "\n",
       "    .dataframe thead th {\n",
       "        text-align: right;\n",
       "    }\n",
       "</style>\n",
       "<table border=\"1\" class=\"dataframe\">\n",
       "  <thead>\n",
       "    <tr style=\"text-align: right;\">\n",
       "      <th></th>\n",
       "      <th>Date</th>\n",
       "      <th>Y</th>\n",
       "      <th>M</th>\n",
       "      <th>X</th>\n",
       "      <th>C</th>\n",
       "      <th>G</th>\n",
       "      <th>I</th>\n",
       "      <th>N</th>\n",
       "      <th>NX</th>\n",
       "    </tr>\n",
       "  </thead>\n",
       "  <tbody>\n",
       "    <tr>\n",
       "      <th>0</th>\n",
       "      <td>2000.25</td>\n",
       "      <td>406.0</td>\n",
       "      <td>130.4</td>\n",
       "      <td>158.6</td>\n",
       "      <td>184.7</td>\n",
       "      <td>101.5</td>\n",
       "      <td>87.5</td>\n",
       "      <td>2703.7</td>\n",
       "      <td>28.2</td>\n",
       "    </tr>\n",
       "    <tr>\n",
       "      <th>1</th>\n",
       "      <td>2000.50</td>\n",
       "      <td>418.8</td>\n",
       "      <td>134.5</td>\n",
       "      <td>167.3</td>\n",
       "      <td>187.5</td>\n",
       "      <td>101.8</td>\n",
       "      <td>92.1</td>\n",
       "      <td>2775.9</td>\n",
       "      <td>32.8</td>\n",
       "    </tr>\n",
       "    <tr>\n",
       "      <th>2</th>\n",
       "      <td>2000.75</td>\n",
       "      <td>413.2</td>\n",
       "      <td>137.2</td>\n",
       "      <td>180.4</td>\n",
       "      <td>184.7</td>\n",
       "      <td>103.1</td>\n",
       "      <td>78.9</td>\n",
       "      <td>2771.0</td>\n",
       "      <td>43.2</td>\n",
       "    </tr>\n",
       "    <tr>\n",
       "      <th>3</th>\n",
       "      <td>2001.00</td>\n",
       "      <td>439.3</td>\n",
       "      <td>146.7</td>\n",
       "      <td>190.7</td>\n",
       "      <td>195.7</td>\n",
       "      <td>105.8</td>\n",
       "      <td>89.8</td>\n",
       "      <td>2770.0</td>\n",
       "      <td>44.0</td>\n",
       "    </tr>\n",
       "    <tr>\n",
       "      <th>4</th>\n",
       "      <td>2001.25</td>\n",
       "      <td>410.9</td>\n",
       "      <td>139.2</td>\n",
       "      <td>179.0</td>\n",
       "      <td>185.5</td>\n",
       "      <td>102.4</td>\n",
       "      <td>79.9</td>\n",
       "      <td>2728.3</td>\n",
       "      <td>39.8</td>\n",
       "    </tr>\n",
       "    <tr>\n",
       "      <th>...</th>\n",
       "      <td>...</td>\n",
       "      <td>...</td>\n",
       "      <td>...</td>\n",
       "      <td>...</td>\n",
       "      <td>...</td>\n",
       "      <td>...</td>\n",
       "      <td>...</td>\n",
       "      <td>...</td>\n",
       "      <td>...</td>\n",
       "    </tr>\n",
       "    <tr>\n",
       "      <th>92</th>\n",
       "      <td>2023.25</td>\n",
       "      <td>565.1</td>\n",
       "      <td>309.6</td>\n",
       "      <td>369.7</td>\n",
       "      <td>250.8</td>\n",
       "      <td>126.5</td>\n",
       "      <td>122.5</td>\n",
       "      <td>3176.5</td>\n",
       "      <td>60.1</td>\n",
       "    </tr>\n",
       "    <tr>\n",
       "      <th>93</th>\n",
       "      <td>2023.50</td>\n",
       "      <td>575.2</td>\n",
       "      <td>327.5</td>\n",
       "      <td>380.2</td>\n",
       "      <td>256.8</td>\n",
       "      <td>133.7</td>\n",
       "      <td>127.4</td>\n",
       "      <td>3222.7</td>\n",
       "      <td>52.7</td>\n",
       "    </tr>\n",
       "    <tr>\n",
       "      <th>94</th>\n",
       "      <td>2023.75</td>\n",
       "      <td>564.2</td>\n",
       "      <td>355.6</td>\n",
       "      <td>412.6</td>\n",
       "      <td>246.3</td>\n",
       "      <td>127.6</td>\n",
       "      <td>125.6</td>\n",
       "      <td>3230.7</td>\n",
       "      <td>57.0</td>\n",
       "    </tr>\n",
       "    <tr>\n",
       "      <th>95</th>\n",
       "      <td>2024.00</td>\n",
       "      <td>610.8</td>\n",
       "      <td>380.0</td>\n",
       "      <td>450.7</td>\n",
       "      <td>272.4</td>\n",
       "      <td>135.6</td>\n",
       "      <td>122.7</td>\n",
       "      <td>3227.2</td>\n",
       "      <td>70.7</td>\n",
       "    </tr>\n",
       "    <tr>\n",
       "      <th>96</th>\n",
       "      <td>2024.25</td>\n",
       "      <td>563.9</td>\n",
       "      <td>351.7</td>\n",
       "      <td>410.0</td>\n",
       "      <td>251.9</td>\n",
       "      <td>129.7</td>\n",
       "      <td>117.7</td>\n",
       "      <td>3211.4</td>\n",
       "      <td>58.3</td>\n",
       "    </tr>\n",
       "  </tbody>\n",
       "</table>\n",
       "<p>97 rows × 9 columns</p>\n",
       "</div>"
      ],
      "text/plain": [
       "       Date      Y      M      X      C      G      I       N    NX\n",
       "0   2000.25  406.0  130.4  158.6  184.7  101.5   87.5  2703.7  28.2\n",
       "1   2000.50  418.8  134.5  167.3  187.5  101.8   92.1  2775.9  32.8\n",
       "2   2000.75  413.2  137.2  180.4  184.7  103.1   78.9  2771.0  43.2\n",
       "3   2001.00  439.3  146.7  190.7  195.7  105.8   89.8  2770.0  44.0\n",
       "4   2001.25  410.9  139.2  179.0  185.5  102.4   79.9  2728.3  39.8\n",
       "..      ...    ...    ...    ...    ...    ...    ...     ...   ...\n",
       "92  2023.25  565.1  309.6  369.7  250.8  126.5  122.5  3176.5  60.1\n",
       "93  2023.50  575.2  327.5  380.2  256.8  133.7  127.4  3222.7  52.7\n",
       "94  2023.75  564.2  355.6  412.6  246.3  127.6  125.6  3230.7  57.0\n",
       "95  2024.00  610.8  380.0  450.7  272.4  135.6  122.7  3227.2  70.7\n",
       "96  2024.25  563.9  351.7  410.0  251.9  129.7  117.7  3211.4  58.3\n",
       "\n",
       "[97 rows x 9 columns]"
      ]
     },
     "execution_count": 3,
     "metadata": {},
     "output_type": "execute_result"
    }
   ],
   "source": [
    "# a. We combine the selected columns into a new dataset\n",
    "df = pd.concat([NKN1a_selected, NKN1b_selected], axis=1)\n",
    "\n",
    "# b. We replace 'K' with 'Q' in 'Date' column\n",
    "df['Date'] = df['Date'].str.replace('K', 'Q')\n",
    "\n",
    "# c. We convert 'Date' column to PeriodIndex\n",
    "df['Date'] = pd.PeriodIndex(df['Date'], freq='Q')\n",
    "\n",
    "# d. We convert 'Date' column to year with fractional part representing the quarter\n",
    "df['Date'] = df['Date'].map(lambda x: x.year + (x.quarter - 1) / 4+ 0.25)\n",
    "\n",
    "# e. We create a new column by subtracting 'M' from 'X' which gives net export 'NX'\n",
    "df['NX'] = df['X'] - df['M']\n",
    "\n",
    "# f. To see if the data looks correct\n",
    "df.head(97)"
   ]
  },
  {
   "cell_type": "markdown",
   "metadata": {},
   "source": [
    "We have now created the wanted dataset and to see how it looks we create an interactive figure that shows the development of all the variables. We note that the values are stored as objects and we have to change the type to \"floats\" create the figure as Python else will read it as a string."
   ]
  },
  {
   "cell_type": "code",
   "execution_count": 4,
   "metadata": {},
   "outputs": [
    {
     "data": {
      "application/vnd.jupyter.widget-view+json": {
       "model_id": "9f53b2aff5484d029ad82c405710f980",
       "version_major": 2,
       "version_minor": 0
      },
      "text/plain": [
       "Dropdown(options=('Y', 'C', 'G', 'I', 'NX', 'N'), value='Y')"
      ]
     },
     "metadata": {},
     "output_type": "display_data"
    },
    {
     "data": {
      "application/vnd.jupyter.widget-view+json": {
       "model_id": "d21b3b748af64a7bbfa74cf6b38a94b7",
       "version_major": 2,
       "version_minor": 0
      },
      "text/plain": [
       "Figure(axes=[Axis(scale=LinearScale(max=2024.0, min=2000.0)), Axis(orientation='vertical', scale=LinearScale()…"
      ]
     },
     "metadata": {},
     "output_type": "display_data"
    }
   ],
   "source": [
    "\n",
    "\n",
    "# We create a dropdown menu with the variable names\n",
    "dropdown = widgets.Dropdown(options=['Y', 'C', 'G', 'I', 'NX', 'N'])\n",
    "\n",
    "# We create a dictionary that maps the original variable names to the new names\n",
    "name_dict = {'Y': 'GDP', 'C': 'Consumption', 'G': 'Public consumption', 'I': 'Investment', 'NX': 'Net exports', 'N': 'Employment level'}\n",
    "\n",
    "# We create a dictionary for the y-axis labels\n",
    "ylabel_dict = {'Y': 'Billions in DKK', 'C': 'Billions in DKK', 'G': 'Billions in DKK', 'I': 'Billions in DKK', 'NX': 'Billions in DKK', 'N': 'Thousands of people'}\n",
    "\n",
    "# We set up the figure\n",
    "x_sc = bq.LinearScale(min=2000, max=2024)\n",
    "y_sc = bq.LinearScale()\n",
    "\n",
    "line = bq.Lines(x=df['Date'], y=[], scales={'x': x_sc, 'y': y_sc})\n",
    "\n",
    "x_ax = bq.Axis(scale=x_sc)\n",
    "y_ax = bq.Axis(scale=y_sc, label='', orientation='vertical')\n",
    "\n",
    "fig = bq.Figure(marks=[line], axes=[x_ax, y_ax], title='', layout=widgets.Layout(width='600px', height='500px'))\n",
    "\n",
    "# We create a function to update the figure\n",
    "def update_figure(change):\n",
    "    df[dropdown.value] = pd.to_numeric(df[dropdown.value], errors='coerce')\n",
    "    line.y = df[dropdown.value]\n",
    "    fig.layout.title = f'{name_dict[dropdown.value]} development from 2000 to 2023'\n",
    "    y_ax.label = ylabel_dict[dropdown.value]\n",
    "\n",
    "# This line updates the figure as the dropdown value changes\n",
    "dropdown.observe(update_figure, 'value')\n",
    "\n",
    "# We display and initialize the figure\n",
    "display(dropdown)\n",
    "display(fig)\n",
    "\n",
    "update_figure(None)\n"
   ]
  },
  {
   "cell_type": "markdown",
   "metadata": {},
   "source": [
    "It is clear that there is a lot of seasonality in our data. Therefore we decide to take the rolling mean of each variable. This means that each value will be the average of itself and the two values on either side."
   ]
  },
  {
   "cell_type": "code",
   "execution_count": 5,
   "metadata": {},
   "outputs": [],
   "source": [
    "# We define the number of periods for the rolling mean\n",
    "window_size = 5\n",
    "\n",
    "# We create a new DataFrame without the 'Date' column\n",
    "df_without_date = df.drop('Date', axis=1)\n",
    "\n",
    "# We calculate the centered rolling mean for each column\n",
    "df_rolling = df_without_date.rolling(window_size, center=True).mean()\n",
    "\n",
    "# We add the 'Date' column back to the DataFrame\n",
    "df_rolling['Date'] = df['Date']\n",
    "\n",
    "# We drop rows with NaN values\n",
    "df_rolling = df_rolling.dropna()"
   ]
  },
  {
   "cell_type": "markdown",
   "metadata": {},
   "source": [
    "# Analysis"
   ]
  },
  {
   "cell_type": "markdown",
   "metadata": {},
   "source": [
    "We calculate the growth rates of all the components and assign these new values to a new data set. "
   ]
  },
  {
   "cell_type": "code",
   "execution_count": 6,
   "metadata": {},
   "outputs": [],
   "source": [
    "# We convert the columns to numeric, excluding 'Date'\n",
    "for column in df_rolling.columns:\n",
    "    if column != 'Date':\n",
    "        df_rolling[column] = pd.to_numeric(df_rolling[column], errors='coerce')\n",
    "\n",
    "# We create a new DataFrame for the growth rates\n",
    "df_growth = pd.DataFrame()\n",
    "df_growth['Date'] = df_rolling['Date']\n",
    "\n",
    "# We calculate the growth rates and add them as new columns, excluding 'Date'\n",
    "for column in df_rolling.columns:\n",
    "    if column != 'Date':\n",
    "        df_growth[column + '_growth'] = df_rolling[column].pct_change(fill_method=None) * 100  # Multiply by 100 to get percentage\n",
    "\n",
    "# We drop rows with NaN values\n",
    "df_growth = df_growth.dropna()"
   ]
  },
  {
   "cell_type": "markdown",
   "metadata": {},
   "source": [
    "We make an interactive figure that shows the growth rates of all components against the growth rate of GDP. In order to be able to be able to read the figure, we decide to group the growth rates for each year by taking the average. "
   ]
  },
  {
   "cell_type": "code",
   "execution_count": 7,
   "metadata": {},
   "outputs": [
    {
     "data": {
      "application/vnd.plotly.v1+json": {
       "config": {
        "plotlyServerURL": "https://plot.ly"
       },
       "data": [
        {
         "name": "Y_growth",
         "type": "bar",
         "visible": true,
         "x": [
          2001,
          2002,
          2003,
          2004,
          2005,
          2006,
          2007,
          2008,
          2009,
          2010,
          2011,
          2012,
          2013,
          2014,
          2015,
          2016,
          2017,
          2018,
          2019,
          2020,
          2021,
          2022,
          2023
         ],
         "y": [
          0.17549170047512497,
          0.15417846490083653,
          0.16602920822420264,
          0.5674409924903645,
          0.6901564965110379,
          0.8925594942159915,
          0.2219925609902057,
          -0.31394701370083544,
          -1.050224354276133,
          0.5042040128520303,
          0.2975446838825113,
          0.03785181169706775,
          0.2752460352796665,
          0.448622700285245,
          0.5531644674436426,
          0.8434079902801872,
          0.6408318200575469,
          0.4840093079916702,
          0.3096624818564292,
          -0.4169618979835088,
          1.5989062887394878,
          0.704006673242813,
          0.37246056653414683
         ]
        },
        {
         "name": "C_growth",
         "type": "bar",
         "visible": true,
         "x": [
          2001,
          2002,
          2003,
          2004,
          2005,
          2006,
          2007,
          2008,
          2009,
          2010,
          2011,
          2012,
          2013,
          2014,
          2015,
          2016,
          2017,
          2018,
          2019,
          2020,
          2021,
          2022,
          2023
         ],
         "y": [
          0.10655725240872604,
          0.32061376942034425,
          0.43853205427935305,
          1.0740191544762716,
          1.0210234913737932,
          0.6279030442089911,
          0.4723342962097976,
          -0.14219889001553243,
          -0.6149558598172261,
          0.11184655600391946,
          0.1481151949295434,
          0.12677542342491854,
          0.057205519599332066,
          0.3039797739096045,
          0.620708540298473,
          0.60353485236323,
          0.6286180848469047,
          0.7683027530787978,
          0.23889006033509796,
          -0.343917846390579,
          1.3520009931112298,
          -0.26301616972320974,
          0.23580139315103332
         ]
        },
        {
         "name": "G_growth",
         "type": "bar",
         "visible": false,
         "x": [
          2001,
          2002,
          2003,
          2004,
          2005,
          2006,
          2007,
          2008,
          2009,
          2010,
          2011,
          2012,
          2013,
          2014,
          2015,
          2016,
          2017,
          2018,
          2019,
          2020,
          2021,
          2022,
          2023
         ],
         "y": [
          0.4643512001894612,
          0.4753539614468977,
          0.1549973724826792,
          0.3298672475193998,
          0.3843155866837783,
          0.5794886016414175,
          0.3221881594014181,
          0.8457975874592738,
          0.702792607332095,
          0.2679921606239588,
          -0.10014627449832503,
          0.08018631170775004,
          0.10802545818761333,
          0.5398193919810196,
          0.2676234494950913,
          0.10676797512871594,
          0.1772546684583598,
          0.048718908848702225,
          0.13105352001062942,
          -0.21135194815078973,
          0.9712162611963893,
          -0.7382568724396271,
          0.13829346434868217
         ]
        },
        {
         "name": "I_growth",
         "type": "bar",
         "visible": false,
         "x": [
          2001,
          2002,
          2003,
          2004,
          2005,
          2006,
          2007,
          2008,
          2009,
          2010,
          2011,
          2012,
          2013,
          2014,
          2015,
          2016,
          2017,
          2018,
          2019,
          2020,
          2021,
          2022,
          2023
         ],
         "y": [
          -0.08280838343209529,
          -0.14381984137122605,
          -0.16884029383136268,
          1.4451368500650514,
          1.66431299431829,
          3.1676938940498944,
          0.2485745153187502,
          -1.7856249077477682,
          -5.504545995139425,
          0.32734925609688714,
          1.527929585759666,
          0.5721632890662687,
          0.8085670272937329,
          0.8691892672186841,
          1.4315256776906427,
          1.7498963636828069,
          1.0409741087715862,
          1.0598289129498255,
          -0.46290943114263294,
          1.2907886849400363,
          2.8008947971987803,
          0.6964047565310133,
          -2.7847404037166594
         ]
        },
        {
         "name": "NX_growth",
         "type": "bar",
         "visible": false,
         "x": [
          2001,
          2002,
          2003,
          2004,
          2005,
          2006,
          2007,
          2008,
          2009,
          2010,
          2011,
          2012,
          2013,
          2014,
          2015,
          2016,
          2017,
          2018,
          2019,
          2020,
          2021,
          2022,
          2023
         ],
         "y": [
          0.5946304695821887,
          -0.4117509129252933,
          -0.45519728247528923,
          -3.542321585429953,
          -2.9174634999074964,
          -3.74024203694423,
          -2.175163918054421,
          0.13632771178922753,
          4.2872294910936475,
          5.222770674558841,
          -0.290797478212665,
          -2.147279726359888,
          1.050741346667805,
          -0.10315205681428463,
          -1.5968222102533487,
          2.578142819612983,
          1.3069870637968357,
          -2.051228757837764,
          4.901052101436795,
          -7.914839549169116,
          2.0197029996244815,
          13.72402779328148,
          8.193840890018533
         ]
        },
        {
         "name": "N_growth",
         "type": "bar",
         "visible": false,
         "x": [
          2001,
          2002,
          2003,
          2004,
          2005,
          2006,
          2007,
          2008,
          2009,
          2010,
          2011,
          2012,
          2013,
          2014,
          2015,
          2016,
          2017,
          2018,
          2019,
          2020,
          2021,
          2022,
          2023
         ],
         "y": [
          0.19480130504533066,
          -0.0074791990058498126,
          -0.23719701490863554,
          -0.037250769693156216,
          0.3994722445262333,
          0.6180659351918139,
          0.5176368769368167,
          0.15865803634149134,
          -0.8408551885980081,
          -0.48109111653874825,
          -0.0251785039640795,
          -0.16753693456211805,
          0.034921441475826986,
          0.23472696297190954,
          0.3521799531926717,
          0.41952909321043563,
          0.36747095741580527,
          0.3769748839738851,
          0.32674879127512213,
          -0.228545786270426,
          0.7595029417524934,
          0.8460858574669328,
          0.34643195529202586
         ]
        }
       ],
       "layout": {
        "template": {
         "data": {
          "bar": [
           {
            "error_x": {
             "color": "#2a3f5f"
            },
            "error_y": {
             "color": "#2a3f5f"
            },
            "marker": {
             "line": {
              "color": "#E5ECF6",
              "width": 0.5
             },
             "pattern": {
              "fillmode": "overlay",
              "size": 10,
              "solidity": 0.2
             }
            },
            "type": "bar"
           }
          ],
          "barpolar": [
           {
            "marker": {
             "line": {
              "color": "#E5ECF6",
              "width": 0.5
             },
             "pattern": {
              "fillmode": "overlay",
              "size": 10,
              "solidity": 0.2
             }
            },
            "type": "barpolar"
           }
          ],
          "carpet": [
           {
            "aaxis": {
             "endlinecolor": "#2a3f5f",
             "gridcolor": "white",
             "linecolor": "white",
             "minorgridcolor": "white",
             "startlinecolor": "#2a3f5f"
            },
            "baxis": {
             "endlinecolor": "#2a3f5f",
             "gridcolor": "white",
             "linecolor": "white",
             "minorgridcolor": "white",
             "startlinecolor": "#2a3f5f"
            },
            "type": "carpet"
           }
          ],
          "choropleth": [
           {
            "colorbar": {
             "outlinewidth": 0,
             "ticks": ""
            },
            "type": "choropleth"
           }
          ],
          "contour": [
           {
            "colorbar": {
             "outlinewidth": 0,
             "ticks": ""
            },
            "colorscale": [
             [
              0,
              "#0d0887"
             ],
             [
              0.1111111111111111,
              "#46039f"
             ],
             [
              0.2222222222222222,
              "#7201a8"
             ],
             [
              0.3333333333333333,
              "#9c179e"
             ],
             [
              0.4444444444444444,
              "#bd3786"
             ],
             [
              0.5555555555555556,
              "#d8576b"
             ],
             [
              0.6666666666666666,
              "#ed7953"
             ],
             [
              0.7777777777777778,
              "#fb9f3a"
             ],
             [
              0.8888888888888888,
              "#fdca26"
             ],
             [
              1,
              "#f0f921"
             ]
            ],
            "type": "contour"
           }
          ],
          "contourcarpet": [
           {
            "colorbar": {
             "outlinewidth": 0,
             "ticks": ""
            },
            "type": "contourcarpet"
           }
          ],
          "heatmap": [
           {
            "colorbar": {
             "outlinewidth": 0,
             "ticks": ""
            },
            "colorscale": [
             [
              0,
              "#0d0887"
             ],
             [
              0.1111111111111111,
              "#46039f"
             ],
             [
              0.2222222222222222,
              "#7201a8"
             ],
             [
              0.3333333333333333,
              "#9c179e"
             ],
             [
              0.4444444444444444,
              "#bd3786"
             ],
             [
              0.5555555555555556,
              "#d8576b"
             ],
             [
              0.6666666666666666,
              "#ed7953"
             ],
             [
              0.7777777777777778,
              "#fb9f3a"
             ],
             [
              0.8888888888888888,
              "#fdca26"
             ],
             [
              1,
              "#f0f921"
             ]
            ],
            "type": "heatmap"
           }
          ],
          "heatmapgl": [
           {
            "colorbar": {
             "outlinewidth": 0,
             "ticks": ""
            },
            "colorscale": [
             [
              0,
              "#0d0887"
             ],
             [
              0.1111111111111111,
              "#46039f"
             ],
             [
              0.2222222222222222,
              "#7201a8"
             ],
             [
              0.3333333333333333,
              "#9c179e"
             ],
             [
              0.4444444444444444,
              "#bd3786"
             ],
             [
              0.5555555555555556,
              "#d8576b"
             ],
             [
              0.6666666666666666,
              "#ed7953"
             ],
             [
              0.7777777777777778,
              "#fb9f3a"
             ],
             [
              0.8888888888888888,
              "#fdca26"
             ],
             [
              1,
              "#f0f921"
             ]
            ],
            "type": "heatmapgl"
           }
          ],
          "histogram": [
           {
            "marker": {
             "pattern": {
              "fillmode": "overlay",
              "size": 10,
              "solidity": 0.2
             }
            },
            "type": "histogram"
           }
          ],
          "histogram2d": [
           {
            "colorbar": {
             "outlinewidth": 0,
             "ticks": ""
            },
            "colorscale": [
             [
              0,
              "#0d0887"
             ],
             [
              0.1111111111111111,
              "#46039f"
             ],
             [
              0.2222222222222222,
              "#7201a8"
             ],
             [
              0.3333333333333333,
              "#9c179e"
             ],
             [
              0.4444444444444444,
              "#bd3786"
             ],
             [
              0.5555555555555556,
              "#d8576b"
             ],
             [
              0.6666666666666666,
              "#ed7953"
             ],
             [
              0.7777777777777778,
              "#fb9f3a"
             ],
             [
              0.8888888888888888,
              "#fdca26"
             ],
             [
              1,
              "#f0f921"
             ]
            ],
            "type": "histogram2d"
           }
          ],
          "histogram2dcontour": [
           {
            "colorbar": {
             "outlinewidth": 0,
             "ticks": ""
            },
            "colorscale": [
             [
              0,
              "#0d0887"
             ],
             [
              0.1111111111111111,
              "#46039f"
             ],
             [
              0.2222222222222222,
              "#7201a8"
             ],
             [
              0.3333333333333333,
              "#9c179e"
             ],
             [
              0.4444444444444444,
              "#bd3786"
             ],
             [
              0.5555555555555556,
              "#d8576b"
             ],
             [
              0.6666666666666666,
              "#ed7953"
             ],
             [
              0.7777777777777778,
              "#fb9f3a"
             ],
             [
              0.8888888888888888,
              "#fdca26"
             ],
             [
              1,
              "#f0f921"
             ]
            ],
            "type": "histogram2dcontour"
           }
          ],
          "mesh3d": [
           {
            "colorbar": {
             "outlinewidth": 0,
             "ticks": ""
            },
            "type": "mesh3d"
           }
          ],
          "parcoords": [
           {
            "line": {
             "colorbar": {
              "outlinewidth": 0,
              "ticks": ""
             }
            },
            "type": "parcoords"
           }
          ],
          "pie": [
           {
            "automargin": true,
            "type": "pie"
           }
          ],
          "scatter": [
           {
            "fillpattern": {
             "fillmode": "overlay",
             "size": 10,
             "solidity": 0.2
            },
            "type": "scatter"
           }
          ],
          "scatter3d": [
           {
            "line": {
             "colorbar": {
              "outlinewidth": 0,
              "ticks": ""
             }
            },
            "marker": {
             "colorbar": {
              "outlinewidth": 0,
              "ticks": ""
             }
            },
            "type": "scatter3d"
           }
          ],
          "scattercarpet": [
           {
            "marker": {
             "colorbar": {
              "outlinewidth": 0,
              "ticks": ""
             }
            },
            "type": "scattercarpet"
           }
          ],
          "scattergeo": [
           {
            "marker": {
             "colorbar": {
              "outlinewidth": 0,
              "ticks": ""
             }
            },
            "type": "scattergeo"
           }
          ],
          "scattergl": [
           {
            "marker": {
             "colorbar": {
              "outlinewidth": 0,
              "ticks": ""
             }
            },
            "type": "scattergl"
           }
          ],
          "scattermapbox": [
           {
            "marker": {
             "colorbar": {
              "outlinewidth": 0,
              "ticks": ""
             }
            },
            "type": "scattermapbox"
           }
          ],
          "scatterpolar": [
           {
            "marker": {
             "colorbar": {
              "outlinewidth": 0,
              "ticks": ""
             }
            },
            "type": "scatterpolar"
           }
          ],
          "scatterpolargl": [
           {
            "marker": {
             "colorbar": {
              "outlinewidth": 0,
              "ticks": ""
             }
            },
            "type": "scatterpolargl"
           }
          ],
          "scatterternary": [
           {
            "marker": {
             "colorbar": {
              "outlinewidth": 0,
              "ticks": ""
             }
            },
            "type": "scatterternary"
           }
          ],
          "surface": [
           {
            "colorbar": {
             "outlinewidth": 0,
             "ticks": ""
            },
            "colorscale": [
             [
              0,
              "#0d0887"
             ],
             [
              0.1111111111111111,
              "#46039f"
             ],
             [
              0.2222222222222222,
              "#7201a8"
             ],
             [
              0.3333333333333333,
              "#9c179e"
             ],
             [
              0.4444444444444444,
              "#bd3786"
             ],
             [
              0.5555555555555556,
              "#d8576b"
             ],
             [
              0.6666666666666666,
              "#ed7953"
             ],
             [
              0.7777777777777778,
              "#fb9f3a"
             ],
             [
              0.8888888888888888,
              "#fdca26"
             ],
             [
              1,
              "#f0f921"
             ]
            ],
            "type": "surface"
           }
          ],
          "table": [
           {
            "cells": {
             "fill": {
              "color": "#EBF0F8"
             },
             "line": {
              "color": "white"
             }
            },
            "header": {
             "fill": {
              "color": "#C8D4E3"
             },
             "line": {
              "color": "white"
             }
            },
            "type": "table"
           }
          ]
         },
         "layout": {
          "annotationdefaults": {
           "arrowcolor": "#2a3f5f",
           "arrowhead": 0,
           "arrowwidth": 1
          },
          "autotypenumbers": "strict",
          "coloraxis": {
           "colorbar": {
            "outlinewidth": 0,
            "ticks": ""
           }
          },
          "colorscale": {
           "diverging": [
            [
             0,
             "#8e0152"
            ],
            [
             0.1,
             "#c51b7d"
            ],
            [
             0.2,
             "#de77ae"
            ],
            [
             0.3,
             "#f1b6da"
            ],
            [
             0.4,
             "#fde0ef"
            ],
            [
             0.5,
             "#f7f7f7"
            ],
            [
             0.6,
             "#e6f5d0"
            ],
            [
             0.7,
             "#b8e186"
            ],
            [
             0.8,
             "#7fbc41"
            ],
            [
             0.9,
             "#4d9221"
            ],
            [
             1,
             "#276419"
            ]
           ],
           "sequential": [
            [
             0,
             "#0d0887"
            ],
            [
             0.1111111111111111,
             "#46039f"
            ],
            [
             0.2222222222222222,
             "#7201a8"
            ],
            [
             0.3333333333333333,
             "#9c179e"
            ],
            [
             0.4444444444444444,
             "#bd3786"
            ],
            [
             0.5555555555555556,
             "#d8576b"
            ],
            [
             0.6666666666666666,
             "#ed7953"
            ],
            [
             0.7777777777777778,
             "#fb9f3a"
            ],
            [
             0.8888888888888888,
             "#fdca26"
            ],
            [
             1,
             "#f0f921"
            ]
           ],
           "sequentialminus": [
            [
             0,
             "#0d0887"
            ],
            [
             0.1111111111111111,
             "#46039f"
            ],
            [
             0.2222222222222222,
             "#7201a8"
            ],
            [
             0.3333333333333333,
             "#9c179e"
            ],
            [
             0.4444444444444444,
             "#bd3786"
            ],
            [
             0.5555555555555556,
             "#d8576b"
            ],
            [
             0.6666666666666666,
             "#ed7953"
            ],
            [
             0.7777777777777778,
             "#fb9f3a"
            ],
            [
             0.8888888888888888,
             "#fdca26"
            ],
            [
             1,
             "#f0f921"
            ]
           ]
          },
          "colorway": [
           "#636efa",
           "#EF553B",
           "#00cc96",
           "#ab63fa",
           "#FFA15A",
           "#19d3f3",
           "#FF6692",
           "#B6E880",
           "#FF97FF",
           "#FECB52"
          ],
          "font": {
           "color": "#2a3f5f"
          },
          "geo": {
           "bgcolor": "white",
           "lakecolor": "white",
           "landcolor": "#E5ECF6",
           "showlakes": true,
           "showland": true,
           "subunitcolor": "white"
          },
          "hoverlabel": {
           "align": "left"
          },
          "hovermode": "closest",
          "mapbox": {
           "style": "light"
          },
          "paper_bgcolor": "white",
          "plot_bgcolor": "#E5ECF6",
          "polar": {
           "angularaxis": {
            "gridcolor": "white",
            "linecolor": "white",
            "ticks": ""
           },
           "bgcolor": "#E5ECF6",
           "radialaxis": {
            "gridcolor": "white",
            "linecolor": "white",
            "ticks": ""
           }
          },
          "scene": {
           "xaxis": {
            "backgroundcolor": "#E5ECF6",
            "gridcolor": "white",
            "gridwidth": 2,
            "linecolor": "white",
            "showbackground": true,
            "ticks": "",
            "zerolinecolor": "white"
           },
           "yaxis": {
            "backgroundcolor": "#E5ECF6",
            "gridcolor": "white",
            "gridwidth": 2,
            "linecolor": "white",
            "showbackground": true,
            "ticks": "",
            "zerolinecolor": "white"
           },
           "zaxis": {
            "backgroundcolor": "#E5ECF6",
            "gridcolor": "white",
            "gridwidth": 2,
            "linecolor": "white",
            "showbackground": true,
            "ticks": "",
            "zerolinecolor": "white"
           }
          },
          "shapedefaults": {
           "line": {
            "color": "#2a3f5f"
           }
          },
          "ternary": {
           "aaxis": {
            "gridcolor": "white",
            "linecolor": "white",
            "ticks": ""
           },
           "baxis": {
            "gridcolor": "white",
            "linecolor": "white",
            "ticks": ""
           },
           "bgcolor": "#E5ECF6",
           "caxis": {
            "gridcolor": "white",
            "linecolor": "white",
            "ticks": ""
           }
          },
          "title": {
           "x": 0.05
          },
          "xaxis": {
           "automargin": true,
           "gridcolor": "white",
           "linecolor": "white",
           "ticks": "",
           "title": {
            "standoff": 15
           },
           "zerolinecolor": "white",
           "zerolinewidth": 2
          },
          "yaxis": {
           "automargin": true,
           "gridcolor": "white",
           "linecolor": "white",
           "ticks": "",
           "title": {
            "standoff": 15
           },
           "zerolinecolor": "white",
           "zerolinewidth": 2
          }
         }
        },
        "title": {
         "text": "C_growth compared to Y_growth"
        },
        "updatemenus": [
         {
          "active": 0,
          "buttons": [
           {
            "args": [
             {
              "visible": [
               true,
               true,
               false,
               false,
               false,
               false
              ]
             },
             {
              "title": "C_growth compared to Y_growth"
             }
            ],
            "label": "C_growth",
            "method": "update"
           },
           {
            "args": [
             {
              "visible": [
               true,
               false,
               true,
               false,
               false,
               false
              ]
             },
             {
              "title": "G_growth compared to Y_growth"
             }
            ],
            "label": "G_growth",
            "method": "update"
           },
           {
            "args": [
             {
              "visible": [
               true,
               false,
               false,
               true,
               false,
               false
              ]
             },
             {
              "title": "I_growth compared to Y_growth"
             }
            ],
            "label": "I_growth",
            "method": "update"
           },
           {
            "args": [
             {
              "visible": [
               true,
               false,
               false,
               false,
               true,
               false
              ]
             },
             {
              "title": "NX_growth compared to Y_growth"
             }
            ],
            "label": "NX_growth",
            "method": "update"
           },
           {
            "args": [
             {
              "visible": [
               true,
               false,
               false,
               false,
               false,
               true
              ]
             },
             {
              "title": "N_growth compared to Y_growth"
             }
            ],
            "label": "N_growth",
            "method": "update"
           }
          ]
         }
        ]
       }
      }
     },
     "metadata": {},
     "output_type": "display_data"
    }
   ],
   "source": [
    "# We convert 'Date' to integer to get the year\n",
    "df_growth['Year'] = df_growth['Date'].astype(int)\n",
    "\n",
    "# We group by 'Year' and calculate the mean\n",
    "df_growth_yearly = df_growth.groupby('Year').mean().reset_index()\n",
    "\n",
    "fig = go.Figure()\n",
    "\n",
    "# We add a trace for 'Y_growth' that is always visible\n",
    "fig.add_trace(\n",
    "    go.Bar(name='Y_growth', x=df_growth_yearly['Year'], y=df_growth_yearly['Y_growth'], visible=True)\n",
    ")\n",
    "\n",
    "# We add traces for all other variables\n",
    "variables = ['C_growth', 'G_growth', 'I_growth', 'NX_growth', 'N_growth']\n",
    "for variable in variables:\n",
    "    fig.add_trace(\n",
    "        go.Bar(name=variable, x=df_growth_yearly['Year'], y=df_growth_yearly[variable], visible=(variable=='C_growth'))\n",
    "    )\n",
    "\n",
    "# We create a dropdown menu\n",
    "buttons = []\n",
    "for i, variable in enumerate(variables):\n",
    "    visibility = [True] + [False]*i + [True] + [False]*(len(variables)-i-1)\n",
    "    buttons.append(dict(label=variable, method='update', args=[{'visible': visibility}, {'title': variable  + \" compared to Y_growth\"}]))\n",
    "\n",
    "fig.update_layout(\n",
    "    updatemenus=[\n",
    "        dict(\n",
    "            active=0,\n",
    "            buttons=buttons,\n",
    "        )\n",
    "    ],\n",
    ")\n",
    "\n",
    "fig.update_layout(title= variables[0] + \" compared to Y_growth\")\n",
    "\n",
    "# We show the figure\n",
    "fig.show()"
   ]
  },
  {
   "cell_type": "markdown",
   "metadata": {},
   "source": [
    "From our analysis we are able to conclude that:\n",
    "* Private consumption is very procyclical as the growth rates of C and Y are positive and negative in the same periods. \n",
    "* Public consumption is harder to determine than private consumption. Fiscal policy argues that G should be countercyclical to GDP growth. On the other hand the government can spend more during booms. \n",
    "* Investments are also procyclical however at low growth rates it is tougher to conclude. \n",
    "* From our plot it is impossible to draw any conclusions regarding the pro/counter-cyclical nature of net exports. A reason for this could be, that the net exports depends on the economic activity of the world. \n",
    "* The employment rate is very procyclical. "
   ]
  }
 ],
 "metadata": {
  "kernelspec": {
   "display_name": "base",
   "language": "python",
   "name": "python3"
  },
  "language_info": {
   "codemirror_mode": {
    "name": "ipython",
    "version": 3
   },
   "file_extension": ".py",
   "mimetype": "text/x-python",
   "name": "python",
   "nbconvert_exporter": "python",
   "pygments_lexer": "ipython3",
   "version": "3.11.7"
  },
  "toc-autonumbering": true,
  "vscode": {
   "interpreter": {
    "hash": "47ef90cdf3004d3f859f1fb202523c65c07ba7c22eefd261b181f4744e2d0403"
   }
  }
 },
 "nbformat": 4,
 "nbformat_minor": 4
}
