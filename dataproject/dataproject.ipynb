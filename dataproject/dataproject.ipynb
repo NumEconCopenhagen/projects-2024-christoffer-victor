{
 "cells": [
  {
   "cell_type": "markdown",
   "metadata": {},
   "source": [
    "# Data project"
   ]
  },
  {
   "cell_type": "markdown",
   "metadata": {},
   "source": [
    "# Imports"
   ]
  },
  {
   "cell_type": "code",
   "execution_count": 121,
   "metadata": {},
   "outputs": [
    {
     "name": "stdout",
     "output_type": "stream",
     "text": [
      "The autoreload extension is already loaded. To reload it, use:\n",
      "  %reload_ext autoreload\n"
     ]
    }
   ],
   "source": [
    "import pandas as pd\n",
    "import matplotlib.pyplot as plt\n",
    "import ipywidgets as widgets\n",
    "import bqplot as bq\n",
    "from IPython.display import display\n",
    "import plotly.graph_objects as go\n",
    "\n",
    "# autoreload modules when code is run\n",
    "%load_ext autoreload\n",
    "%autoreload 2"
   ]
  },
  {
   "cell_type": "markdown",
   "metadata": {},
   "source": [
    "# Import data sets"
   ]
  },
  {
   "cell_type": "markdown",
   "metadata": {},
   "source": [
    "We get data from statistikbanken.dk/NAN1 even though the two data sets are from the same source we could not get an output in one file and therefore we have to do it manually in Python. We import two files with danish data from 2000 to 2023. The first file contains the components of the national accounts, and the other has the level of employment. Since our files use danish notation we make sure python knows what the symbols for seperator and decimal are. Lastly we combine the two files. "
   ]
  },
  {
   "cell_type": "code",
   "execution_count": 122,
   "metadata": {},
   "outputs": [],
   "source": [
    "# We load the two CSV files\n",
    "df1 = pd.read_csv('National.csv', sep=\";\", decimal=\",\" )\n",
    "df2 = pd.read_csv('Employ.csv', sep=\";\", decimal=\",\" )\n",
    "\n",
    "# We select the desired columns from the both datasets\n",
    "df1_selected = df1[['Date','Y', 'M', 'X', 'C', 'G', 'I']]\n",
    "df2_selected = df2[['N']]\n",
    "\n",
    "# We combine the selected columns into a new dataset\n",
    "df = pd.concat([df1_selected, df2_selected], axis=1)\n"
   ]
  },
  {
   "cell_type": "markdown",
   "metadata": {},
   "source": [
    "# Data exploration"
   ]
  },
  {
   "cell_type": "markdown",
   "metadata": {},
   "source": [
    "First we change the format of the 'Date' column from '2000K2' to '2000.25'\n",
    "We construct a new variable NX from the two variables X and M. We make an interactive figure to illustrate the different components of the data set. "
   ]
  },
  {
   "cell_type": "code",
   "execution_count": 123,
   "metadata": {},
   "outputs": [
    {
     "data": {
      "application/vnd.jupyter.widget-view+json": {
       "model_id": "006036922771435f8dff26a0346a18df",
       "version_major": 2,
       "version_minor": 0
      },
      "text/plain": [
       "Dropdown(options=('Y', 'C', 'G', 'I', 'NX', 'N'), value='Y')"
      ]
     },
     "metadata": {},
     "output_type": "display_data"
    },
    {
     "data": {
      "application/vnd.jupyter.widget-view+json": {
       "model_id": "e904638e77844946a008872cfc3401ca",
       "version_major": 2,
       "version_minor": 0
      },
      "text/plain": [
       "Figure(axes=[Axis(scale=LinearScale(max=2024.0, min=2000.0)), Axis(orientation='vertical', scale=LinearScale()…"
      ]
     },
     "metadata": {},
     "output_type": "display_data"
    }
   ],
   "source": [
    "# We replace 'K' with 'Q' in 'Date' column\n",
    "df['Date'] = df['Date'].str.replace('K', 'Q')\n",
    "\n",
    "# We convert 'Date' column to PeriodIndex\n",
    "df['Date'] = pd.PeriodIndex(df['Date'], freq='Q')\n",
    "\n",
    "# We convert 'Date' column to year with fractional part representing the quarter\n",
    "df['Date'] = df['Date'].map(lambda x: x.year + (x.quarter - 1) / 4)\n",
    "\n",
    "# We create a new column by subtracting 'M' from 'X' which gives net export 'NX'\n",
    "df['NX'] = df['X'] - df['M']\n",
    "\n",
    "# We create a dropdown menu with the variable names\n",
    "dropdown = widgets.Dropdown(options=['Y', 'C', 'G', 'I', 'NX', 'N'])\n",
    "\n",
    "# We create a dictionary that maps the original variable names to the new names\n",
    "name_dict = {'Y': 'GDP', 'C': 'Consumption', 'G': 'Public consumption', 'I': 'Investment', 'NX': 'Net exports', 'N': 'Employment level'}\n",
    "\n",
    "# We create a dictionary for the y-axis labels\n",
    "ylabel_dict = {'Y': 'Billions in DKK', 'C': 'Billions in DKK', 'G': 'Billions in DKK', 'I': 'Billions in DKK', 'NX': 'Billions in DKK', 'N': 'Thousands of people'}\n",
    "\n",
    "# We create scales for the x and y axes\n",
    "x_sc = bq.LinearScale(min=2000, max=2024)\n",
    "y_sc = bq.LinearScale()\n",
    "\n",
    "# We create a line mark\n",
    "line = bq.Lines(x=df['Date'], y=[], scales={'x': x_sc, 'y': y_sc})\n",
    "\n",
    "# We create axes\n",
    "x_ax = bq.Axis(scale=x_sc)\n",
    "y_ax = bq.Axis(scale=y_sc, label='', orientation='vertical')\n",
    "\n",
    "# We create the figure\n",
    "fig = bq.Figure(marks=[line], axes=[x_ax, y_ax], title='', layout=widgets.Layout(width='600px', height='500px'))\n",
    "\n",
    "# We create a function to update the figure\n",
    "def update_figure(change):\n",
    "    line.y = df[dropdown.value]\n",
    "    fig.layout.title = f'{name_dict[dropdown.value]} development from 2000 to 2023'\n",
    "    y_ax.label = ylabel_dict[dropdown.value]\n",
    "\n",
    "# The following line updates the figure as the dropdown value changes\n",
    "dropdown.observe(update_figure, 'value')\n",
    "\n",
    "# We display the dropdown and the figure\n",
    "display(dropdown)\n",
    "display(fig)\n",
    "\n",
    "# We initialize the figure\n",
    "update_figure(None)"
   ]
  },
  {
   "cell_type": "markdown",
   "metadata": {},
   "source": [
    "It is clear that there is a lot of seasonality in our data. Therefore we decide to take the rolling mean of each variable. This means that each value will be the average of itself and the two values on either side."
   ]
  },
  {
   "cell_type": "code",
   "execution_count": 124,
   "metadata": {},
   "outputs": [],
   "source": [
    "# We define the number of periods for the rolling mean\n",
    "window_size = 5\n",
    "\n",
    "# We create a new DataFrame without the 'Date' column\n",
    "df_without_date = df.drop('Date', axis=1)\n",
    "\n",
    "# We calculate the centered rolling mean for each column\n",
    "df_rolling = df_without_date.rolling(window_size, center=True).mean()\n",
    "\n",
    "# We add the 'Date' column back to the DataFrame\n",
    "df_rolling['Date'] = df['Date']\n",
    "\n",
    "# We drop rows with NaN values\n",
    "df_rolling = df_rolling.dropna()"
   ]
  },
  {
   "cell_type": "markdown",
   "metadata": {},
   "source": [
    "# Analysis"
   ]
  },
  {
   "cell_type": "markdown",
   "metadata": {},
   "source": [
    "We calculate the growth rates of all the components and assign these new values to a new data set. "
   ]
  },
  {
   "cell_type": "code",
   "execution_count": 125,
   "metadata": {},
   "outputs": [],
   "source": [
    "# We convert the columns to numeric, excluding 'Date'\n",
    "for column in df_rolling.columns:\n",
    "    if column != 'Date':\n",
    "        df_rolling[column] = pd.to_numeric(df_rolling[column], errors='coerce')\n",
    "\n",
    "# We create a new DataFrame for the growth rates\n",
    "df_growth = pd.DataFrame()\n",
    "df_growth['Date'] = df_rolling['Date']\n",
    "\n",
    "# We calculate the growth rates and add them as new columns, excluding 'Date'\n",
    "for column in df_rolling.columns:\n",
    "    if column != 'Date':\n",
    "        df_growth[column + '_growth'] = df_rolling[column].pct_change(fill_method=None) * 100  # Multiply by 100 to get percentage\n",
    "\n",
    "# We drop rows with NaN values\n",
    "df_growth = df_growth.dropna()"
   ]
  },
  {
   "cell_type": "markdown",
   "metadata": {},
   "source": [
    "We make an interactive figure that shows the growth rates of all components against the growth rate of GDP. In order to be able to be able to read the figure, we decide to group the growth rates for each year by taking the average. "
   ]
  },
  {
   "cell_type": "code",
   "execution_count": 126,
   "metadata": {},
   "outputs": [
    {
     "data": {
      "application/vnd.plotly.v1+json": {
       "config": {
        "plotlyServerURL": "https://plot.ly"
       },
       "data": [
        {
         "name": "Y_growth",
         "type": "bar",
         "x": [
          2000,
          2001,
          2002,
          2003,
          2004,
          2005,
          2006,
          2007,
          2008,
          2009,
          2010,
          2011,
          2012,
          2013,
          2014,
          2015,
          2016,
          2017,
          2018,
          2019,
          2020,
          2021,
          2022,
          2023
         ],
         "y": [
          0.742266066468722,
          0.20157797815045508,
          0.09144775835417118,
          0.2801414088766635,
          0.6764270963209695,
          0.8421116148510072,
          0.6069154477140654,
          0.19212806292710216,
          -0.7075831225123314,
          -0.7159431062766758,
          0.6584711538624416,
          0.15064797291621246,
          0.08025029752941337,
          0.3087572490680618,
          0.5326458402427625,
          0.6148444890063914,
          0.896243162852145,
          0.5379723886830834,
          0.4739383241333356,
          -0.1431085613475297,
          0.13669556396980753,
          1.6547606019738315,
          0.47333585415564317,
          0.17118733322869875
         ]
        },
        {
         "name": "C_growth",
         "type": "bar",
         "visible": false,
         "x": [
          2000,
          2001,
          2002,
          2003,
          2004,
          2005,
          2006,
          2007,
          2008,
          2009,
          2010,
          2011,
          2012,
          2013,
          2014,
          2015,
          2016,
          2017,
          2018,
          2019,
          2020,
          2021,
          2022,
          2023
         ],
         "y": [
          0.4050740859183444,
          0.09817620438985764,
          0.3089631932342546,
          0.6045394137266763,
          1.2143143922250936,
          1.0530743629185686,
          0.33549795245113867,
          0.6129899516779114,
          -0.5264994470705331,
          -0.3650692661958971,
          0.07165099004741715,
          0.21941846274369792,
          0.05448316833664979,
          0.07311848209008709,
          0.39364158798897153,
          0.6691421271332404,
          0.5305642699706348,
          0.7468953994353045,
          0.6099528843870716,
          -0.1034461429424649,
          0.2544199426166599,
          1.3415500649510859,
          -0.5075568768637378,
          0.13544507033538636
         ]
        },
        {
         "name": "G_growth",
         "type": "bar",
         "visible": false,
         "x": [
          2000,
          2001,
          2002,
          2003,
          2004,
          2005,
          2006,
          2007,
          2008,
          2009,
          2010,
          2011,
          2012,
          2013,
          2014,
          2015,
          2016,
          2017,
          2018,
          2019,
          2020,
          2021,
          2022,
          2023
         ],
         "y": [
          0.4858142246404906,
          0.5718179034722992,
          0.4008702426254257,
          0.20056083186118512,
          0.25381142673350787,
          0.47736959915140875,
          0.46851620957092666,
          0.4167904128257599,
          0.8939886977165357,
          0.650823837740036,
          0.17258633760974806,
          -0.08751001076507947,
          0.06358719946502334,
          0.24108895523071439,
          0.5626391767196565,
          0.14352826690886555,
          0.1959409685478114,
          0.11762809165860033,
          0.06388967982675353,
          -0.058320471572070876,
          0.23085483890084302,
          0.6041514612390886,
          -0.6979503005665771,
          0.05097585065867438
         ]
        },
        {
         "name": "I_growth",
         "type": "bar",
         "visible": false,
         "x": [
          2000,
          2001,
          2002,
          2003,
          2004,
          2005,
          2006,
          2007,
          2008,
          2009,
          2010,
          2011,
          2012,
          2013,
          2014,
          2015,
          2016,
          2017,
          2018,
          2019,
          2020,
          2021,
          2022,
          2023
         ],
         "y": [
          0.16347501167679468,
          0.5386909761926711,
          -0.7884909270157087,
          0.17009606015360723,
          1.9925915194950656,
          2.1853406360526186,
          2.4856582688783044,
          -0.6279247639250363,
          -2.8591704757531726,
          -4.272761160163327,
          1.3375610486265233,
          1.0522979693064234,
          0.3341433019581619,
          0.9130439577768046,
          0.9180156374670068,
          1.8537925021331114,
          1.5597912330317765,
          1.4453391527184833,
          0.17557991902006076,
          -1.0478242725988074,
          2.611557643330331,
          2.6302543400844565,
          -0.14648013054922027,
          -3.6453739527581166
         ]
        },
        {
         "name": "NX_growth",
         "type": "bar",
         "visible": false,
         "x": [
          2000,
          2001,
          2002,
          2003,
          2004,
          2005,
          2006,
          2007,
          2008,
          2009,
          2010,
          2011,
          2012,
          2013,
          2014,
          2015,
          2016,
          2017,
          2018,
          2019,
          2020,
          2021,
          2022,
          2023
         ],
         "y": [
          4.680851063829783,
          -0.7970518117478481,
          0.5122636713762535,
          -0.8602842659526488,
          -4.183959896163151,
          -3.031352337346127,
          -3.631392366171407,
          -0.2971675476897446,
          0.29370181250864835,
          3.0767252917134282,
          5.399703036567444,
          -1.7630488511252735,
          -0.25937878749353893,
          0.5285085680687862,
          0.29895570648108827,
          -1.8499865871303895,
          4.185199540584839,
          -2.534417939708217,
          2.3740861494257555,
          2.7458936721857645,
          -10.63444953091048,
          5.848474323307456,
          13.821303617947388,
          8.342208149858125
         ]
        },
        {
         "name": "N_growth",
         "type": "bar",
         "visible": false,
         "x": [
          2000,
          2001,
          2002,
          2003,
          2004,
          2005,
          2006,
          2007,
          2008,
          2009,
          2010,
          2011,
          2012,
          2013,
          2014,
          2015,
          2016,
          2017,
          2018,
          2019,
          2020,
          2021,
          2022,
          2023
         ],
         "y": [
          0.8095193069991069,
          0.16040046197759728,
          -0.05651541960599582,
          -0.23077260523893806,
          0.07991800908455915,
          0.41970849482321215,
          0.6209603533010366,
          0.38294928662350736,
          -0.04805892638569953,
          -0.8935703136639078,
          -0.27223022696887256,
          -0.054627297066361935,
          -0.157222796007761,
          0.10724807345754983,
          0.26235499651963146,
          0.3738030289571981,
          0.41945061207760426,
          0.35247225378903235,
          0.38257310856052995,
          0.1265497596202425,
          -0.11326599611388988,
          1.0428696114423208,
          0.6429008014038895,
          0.23706350025534859
         ]
        }
       ],
       "layout": {
        "template": {
         "data": {
          "bar": [
           {
            "error_x": {
             "color": "#2a3f5f"
            },
            "error_y": {
             "color": "#2a3f5f"
            },
            "marker": {
             "line": {
              "color": "#E5ECF6",
              "width": 0.5
             },
             "pattern": {
              "fillmode": "overlay",
              "size": 10,
              "solidity": 0.2
             }
            },
            "type": "bar"
           }
          ],
          "barpolar": [
           {
            "marker": {
             "line": {
              "color": "#E5ECF6",
              "width": 0.5
             },
             "pattern": {
              "fillmode": "overlay",
              "size": 10,
              "solidity": 0.2
             }
            },
            "type": "barpolar"
           }
          ],
          "carpet": [
           {
            "aaxis": {
             "endlinecolor": "#2a3f5f",
             "gridcolor": "white",
             "linecolor": "white",
             "minorgridcolor": "white",
             "startlinecolor": "#2a3f5f"
            },
            "baxis": {
             "endlinecolor": "#2a3f5f",
             "gridcolor": "white",
             "linecolor": "white",
             "minorgridcolor": "white",
             "startlinecolor": "#2a3f5f"
            },
            "type": "carpet"
           }
          ],
          "choropleth": [
           {
            "colorbar": {
             "outlinewidth": 0,
             "ticks": ""
            },
            "type": "choropleth"
           }
          ],
          "contour": [
           {
            "colorbar": {
             "outlinewidth": 0,
             "ticks": ""
            },
            "colorscale": [
             [
              0,
              "#0d0887"
             ],
             [
              0.1111111111111111,
              "#46039f"
             ],
             [
              0.2222222222222222,
              "#7201a8"
             ],
             [
              0.3333333333333333,
              "#9c179e"
             ],
             [
              0.4444444444444444,
              "#bd3786"
             ],
             [
              0.5555555555555556,
              "#d8576b"
             ],
             [
              0.6666666666666666,
              "#ed7953"
             ],
             [
              0.7777777777777778,
              "#fb9f3a"
             ],
             [
              0.8888888888888888,
              "#fdca26"
             ],
             [
              1,
              "#f0f921"
             ]
            ],
            "type": "contour"
           }
          ],
          "contourcarpet": [
           {
            "colorbar": {
             "outlinewidth": 0,
             "ticks": ""
            },
            "type": "contourcarpet"
           }
          ],
          "heatmap": [
           {
            "colorbar": {
             "outlinewidth": 0,
             "ticks": ""
            },
            "colorscale": [
             [
              0,
              "#0d0887"
             ],
             [
              0.1111111111111111,
              "#46039f"
             ],
             [
              0.2222222222222222,
              "#7201a8"
             ],
             [
              0.3333333333333333,
              "#9c179e"
             ],
             [
              0.4444444444444444,
              "#bd3786"
             ],
             [
              0.5555555555555556,
              "#d8576b"
             ],
             [
              0.6666666666666666,
              "#ed7953"
             ],
             [
              0.7777777777777778,
              "#fb9f3a"
             ],
             [
              0.8888888888888888,
              "#fdca26"
             ],
             [
              1,
              "#f0f921"
             ]
            ],
            "type": "heatmap"
           }
          ],
          "heatmapgl": [
           {
            "colorbar": {
             "outlinewidth": 0,
             "ticks": ""
            },
            "colorscale": [
             [
              0,
              "#0d0887"
             ],
             [
              0.1111111111111111,
              "#46039f"
             ],
             [
              0.2222222222222222,
              "#7201a8"
             ],
             [
              0.3333333333333333,
              "#9c179e"
             ],
             [
              0.4444444444444444,
              "#bd3786"
             ],
             [
              0.5555555555555556,
              "#d8576b"
             ],
             [
              0.6666666666666666,
              "#ed7953"
             ],
             [
              0.7777777777777778,
              "#fb9f3a"
             ],
             [
              0.8888888888888888,
              "#fdca26"
             ],
             [
              1,
              "#f0f921"
             ]
            ],
            "type": "heatmapgl"
           }
          ],
          "histogram": [
           {
            "marker": {
             "pattern": {
              "fillmode": "overlay",
              "size": 10,
              "solidity": 0.2
             }
            },
            "type": "histogram"
           }
          ],
          "histogram2d": [
           {
            "colorbar": {
             "outlinewidth": 0,
             "ticks": ""
            },
            "colorscale": [
             [
              0,
              "#0d0887"
             ],
             [
              0.1111111111111111,
              "#46039f"
             ],
             [
              0.2222222222222222,
              "#7201a8"
             ],
             [
              0.3333333333333333,
              "#9c179e"
             ],
             [
              0.4444444444444444,
              "#bd3786"
             ],
             [
              0.5555555555555556,
              "#d8576b"
             ],
             [
              0.6666666666666666,
              "#ed7953"
             ],
             [
              0.7777777777777778,
              "#fb9f3a"
             ],
             [
              0.8888888888888888,
              "#fdca26"
             ],
             [
              1,
              "#f0f921"
             ]
            ],
            "type": "histogram2d"
           }
          ],
          "histogram2dcontour": [
           {
            "colorbar": {
             "outlinewidth": 0,
             "ticks": ""
            },
            "colorscale": [
             [
              0,
              "#0d0887"
             ],
             [
              0.1111111111111111,
              "#46039f"
             ],
             [
              0.2222222222222222,
              "#7201a8"
             ],
             [
              0.3333333333333333,
              "#9c179e"
             ],
             [
              0.4444444444444444,
              "#bd3786"
             ],
             [
              0.5555555555555556,
              "#d8576b"
             ],
             [
              0.6666666666666666,
              "#ed7953"
             ],
             [
              0.7777777777777778,
              "#fb9f3a"
             ],
             [
              0.8888888888888888,
              "#fdca26"
             ],
             [
              1,
              "#f0f921"
             ]
            ],
            "type": "histogram2dcontour"
           }
          ],
          "mesh3d": [
           {
            "colorbar": {
             "outlinewidth": 0,
             "ticks": ""
            },
            "type": "mesh3d"
           }
          ],
          "parcoords": [
           {
            "line": {
             "colorbar": {
              "outlinewidth": 0,
              "ticks": ""
             }
            },
            "type": "parcoords"
           }
          ],
          "pie": [
           {
            "automargin": true,
            "type": "pie"
           }
          ],
          "scatter": [
           {
            "fillpattern": {
             "fillmode": "overlay",
             "size": 10,
             "solidity": 0.2
            },
            "type": "scatter"
           }
          ],
          "scatter3d": [
           {
            "line": {
             "colorbar": {
              "outlinewidth": 0,
              "ticks": ""
             }
            },
            "marker": {
             "colorbar": {
              "outlinewidth": 0,
              "ticks": ""
             }
            },
            "type": "scatter3d"
           }
          ],
          "scattercarpet": [
           {
            "marker": {
             "colorbar": {
              "outlinewidth": 0,
              "ticks": ""
             }
            },
            "type": "scattercarpet"
           }
          ],
          "scattergeo": [
           {
            "marker": {
             "colorbar": {
              "outlinewidth": 0,
              "ticks": ""
             }
            },
            "type": "scattergeo"
           }
          ],
          "scattergl": [
           {
            "marker": {
             "colorbar": {
              "outlinewidth": 0,
              "ticks": ""
             }
            },
            "type": "scattergl"
           }
          ],
          "scattermapbox": [
           {
            "marker": {
             "colorbar": {
              "outlinewidth": 0,
              "ticks": ""
             }
            },
            "type": "scattermapbox"
           }
          ],
          "scatterpolar": [
           {
            "marker": {
             "colorbar": {
              "outlinewidth": 0,
              "ticks": ""
             }
            },
            "type": "scatterpolar"
           }
          ],
          "scatterpolargl": [
           {
            "marker": {
             "colorbar": {
              "outlinewidth": 0,
              "ticks": ""
             }
            },
            "type": "scatterpolargl"
           }
          ],
          "scatterternary": [
           {
            "marker": {
             "colorbar": {
              "outlinewidth": 0,
              "ticks": ""
             }
            },
            "type": "scatterternary"
           }
          ],
          "surface": [
           {
            "colorbar": {
             "outlinewidth": 0,
             "ticks": ""
            },
            "colorscale": [
             [
              0,
              "#0d0887"
             ],
             [
              0.1111111111111111,
              "#46039f"
             ],
             [
              0.2222222222222222,
              "#7201a8"
             ],
             [
              0.3333333333333333,
              "#9c179e"
             ],
             [
              0.4444444444444444,
              "#bd3786"
             ],
             [
              0.5555555555555556,
              "#d8576b"
             ],
             [
              0.6666666666666666,
              "#ed7953"
             ],
             [
              0.7777777777777778,
              "#fb9f3a"
             ],
             [
              0.8888888888888888,
              "#fdca26"
             ],
             [
              1,
              "#f0f921"
             ]
            ],
            "type": "surface"
           }
          ],
          "table": [
           {
            "cells": {
             "fill": {
              "color": "#EBF0F8"
             },
             "line": {
              "color": "white"
             }
            },
            "header": {
             "fill": {
              "color": "#C8D4E3"
             },
             "line": {
              "color": "white"
             }
            },
            "type": "table"
           }
          ]
         },
         "layout": {
          "annotationdefaults": {
           "arrowcolor": "#2a3f5f",
           "arrowhead": 0,
           "arrowwidth": 1
          },
          "autotypenumbers": "strict",
          "coloraxis": {
           "colorbar": {
            "outlinewidth": 0,
            "ticks": ""
           }
          },
          "colorscale": {
           "diverging": [
            [
             0,
             "#8e0152"
            ],
            [
             0.1,
             "#c51b7d"
            ],
            [
             0.2,
             "#de77ae"
            ],
            [
             0.3,
             "#f1b6da"
            ],
            [
             0.4,
             "#fde0ef"
            ],
            [
             0.5,
             "#f7f7f7"
            ],
            [
             0.6,
             "#e6f5d0"
            ],
            [
             0.7,
             "#b8e186"
            ],
            [
             0.8,
             "#7fbc41"
            ],
            [
             0.9,
             "#4d9221"
            ],
            [
             1,
             "#276419"
            ]
           ],
           "sequential": [
            [
             0,
             "#0d0887"
            ],
            [
             0.1111111111111111,
             "#46039f"
            ],
            [
             0.2222222222222222,
             "#7201a8"
            ],
            [
             0.3333333333333333,
             "#9c179e"
            ],
            [
             0.4444444444444444,
             "#bd3786"
            ],
            [
             0.5555555555555556,
             "#d8576b"
            ],
            [
             0.6666666666666666,
             "#ed7953"
            ],
            [
             0.7777777777777778,
             "#fb9f3a"
            ],
            [
             0.8888888888888888,
             "#fdca26"
            ],
            [
             1,
             "#f0f921"
            ]
           ],
           "sequentialminus": [
            [
             0,
             "#0d0887"
            ],
            [
             0.1111111111111111,
             "#46039f"
            ],
            [
             0.2222222222222222,
             "#7201a8"
            ],
            [
             0.3333333333333333,
             "#9c179e"
            ],
            [
             0.4444444444444444,
             "#bd3786"
            ],
            [
             0.5555555555555556,
             "#d8576b"
            ],
            [
             0.6666666666666666,
             "#ed7953"
            ],
            [
             0.7777777777777778,
             "#fb9f3a"
            ],
            [
             0.8888888888888888,
             "#fdca26"
            ],
            [
             1,
             "#f0f921"
            ]
           ]
          },
          "colorway": [
           "#636efa",
           "#EF553B",
           "#00cc96",
           "#ab63fa",
           "#FFA15A",
           "#19d3f3",
           "#FF6692",
           "#B6E880",
           "#FF97FF",
           "#FECB52"
          ],
          "font": {
           "color": "#2a3f5f"
          },
          "geo": {
           "bgcolor": "white",
           "lakecolor": "white",
           "landcolor": "#E5ECF6",
           "showlakes": true,
           "showland": true,
           "subunitcolor": "white"
          },
          "hoverlabel": {
           "align": "left"
          },
          "hovermode": "closest",
          "mapbox": {
           "style": "light"
          },
          "paper_bgcolor": "white",
          "plot_bgcolor": "#E5ECF6",
          "polar": {
           "angularaxis": {
            "gridcolor": "white",
            "linecolor": "white",
            "ticks": ""
           },
           "bgcolor": "#E5ECF6",
           "radialaxis": {
            "gridcolor": "white",
            "linecolor": "white",
            "ticks": ""
           }
          },
          "scene": {
           "xaxis": {
            "backgroundcolor": "#E5ECF6",
            "gridcolor": "white",
            "gridwidth": 2,
            "linecolor": "white",
            "showbackground": true,
            "ticks": "",
            "zerolinecolor": "white"
           },
           "yaxis": {
            "backgroundcolor": "#E5ECF6",
            "gridcolor": "white",
            "gridwidth": 2,
            "linecolor": "white",
            "showbackground": true,
            "ticks": "",
            "zerolinecolor": "white"
           },
           "zaxis": {
            "backgroundcolor": "#E5ECF6",
            "gridcolor": "white",
            "gridwidth": 2,
            "linecolor": "white",
            "showbackground": true,
            "ticks": "",
            "zerolinecolor": "white"
           }
          },
          "shapedefaults": {
           "line": {
            "color": "#2a3f5f"
           }
          },
          "ternary": {
           "aaxis": {
            "gridcolor": "white",
            "linecolor": "white",
            "ticks": ""
           },
           "baxis": {
            "gridcolor": "white",
            "linecolor": "white",
            "ticks": ""
           },
           "bgcolor": "#E5ECF6",
           "caxis": {
            "gridcolor": "white",
            "linecolor": "white",
            "ticks": ""
           }
          },
          "title": {
           "x": 0.05
          },
          "xaxis": {
           "automargin": true,
           "gridcolor": "white",
           "linecolor": "white",
           "ticks": "",
           "title": {
            "standoff": 15
           },
           "zerolinecolor": "white",
           "zerolinewidth": 2
          },
          "yaxis": {
           "automargin": true,
           "gridcolor": "white",
           "linecolor": "white",
           "ticks": "",
           "title": {
            "standoff": 15
           },
           "zerolinecolor": "white",
           "zerolinewidth": 2
          }
         }
        },
        "title": {
         "text": "C_growth"
        },
        "updatemenus": [
         {
          "active": 0,
          "buttons": [
           {
            "args": [
             {
              "visible": [
               true,
               true,
               false,
               false,
               false,
               false
              ]
             },
             {
              "title": "C_growth"
             }
            ],
            "label": "C_growth",
            "method": "update"
           },
           {
            "args": [
             {
              "visible": [
               true,
               false,
               true,
               false,
               false,
               false
              ]
             },
             {
              "title": "G_growth"
             }
            ],
            "label": "G_growth",
            "method": "update"
           },
           {
            "args": [
             {
              "visible": [
               true,
               false,
               false,
               true,
               false,
               false
              ]
             },
             {
              "title": "I_growth"
             }
            ],
            "label": "I_growth",
            "method": "update"
           },
           {
            "args": [
             {
              "visible": [
               true,
               false,
               false,
               false,
               true,
               false
              ]
             },
             {
              "title": "NX_growth"
             }
            ],
            "label": "NX_growth",
            "method": "update"
           },
           {
            "args": [
             {
              "visible": [
               true,
               false,
               false,
               false,
               false,
               true
              ]
             },
             {
              "title": "N_growth"
             }
            ],
            "label": "N_growth",
            "method": "update"
           }
          ]
         }
        ]
       }
      }
     },
     "metadata": {},
     "output_type": "display_data"
    }
   ],
   "source": [
    "# We convert 'Date' to integer to get the year\n",
    "df_growth['Year'] = df_growth['Date'].astype(int)\n",
    "\n",
    "# We group by 'Year' and calculate the mean\n",
    "df_growth_yearly = df_growth.groupby('Year').mean().reset_index()\n",
    "\n",
    "# We create a bar chart for 'Y_growth'\n",
    "fig = go.Figure(data=[\n",
    "    go.Bar(name='Y_growth', x=df_growth_yearly['Year'], y=df_growth_yearly['Y_growth'])\n",
    "])\n",
    "\n",
    "# We add traces for the other variables\n",
    "variables = ['C_growth', 'G_growth', 'I_growth', 'NX_growth', 'N_growth']\n",
    "for variable in variables:\n",
    "    fig.add_trace(\n",
    "        go.Bar(name=variable, x=df_growth_yearly['Year'], y=df_growth_yearly[variable], visible=False)\n",
    "    )\n",
    "\n",
    "# We create a dropdown menu\n",
    "buttons = []\n",
    "for i, variable in enumerate(variables):\n",
    "    visibility = [True] + [False]*i + [True] + [False]*(len(variables)-i-1)\n",
    "    buttons.append(dict(label=variable, method='update', args=[{'visible': visibility}, {'title': variable}]))\n",
    "\n",
    "fig.update_layout(\n",
    "    updatemenus=[\n",
    "        dict(\n",
    "            active=0,\n",
    "            buttons=buttons,\n",
    "        )\n",
    "    ],\n",
    ")\n",
    "\n",
    "fig.update_layout(title=variables[0])\n",
    "\n",
    "# We show the figure\n",
    "fig.show()"
   ]
  },
  {
   "cell_type": "markdown",
   "metadata": {},
   "source": [
    "From our analysis we are able to conclude that:\n",
    "* Private consumption is very procyclical as the growth rates of C and Y are positive and negative in the same periods. \n",
    "* Public consumption is harder to determine than private consumption. Fiscal policy argues that G should be countercyclical to GDP growth. On the other hand the government can spend more during booms. \n",
    "* Investments are also procyclical however at low growth rates it is tougher to conclude. \n",
    "* From our plot it is impossible to draw any conclusions regarding the pro/counter-cyclical nature of net exports. A reason for this could be, that the net exports depends on the economic activity of the world. \n",
    "* The employment rate is very procyclical. "
   ]
  }
 ],
 "metadata": {
  "kernelspec": {
   "display_name": "base",
   "language": "python",
   "name": "python3"
  },
  "language_info": {
   "codemirror_mode": {
    "name": "ipython",
    "version": 3
   },
   "file_extension": ".py",
   "mimetype": "text/x-python",
   "name": "python",
   "nbconvert_exporter": "python",
   "pygments_lexer": "ipython3",
   "version": "3.11.7"
  },
  "toc-autonumbering": true,
  "vscode": {
   "interpreter": {
    "hash": "47ef90cdf3004d3f859f1fb202523c65c07ba7c22eefd261b181f4744e2d0403"
   }
  }
 },
 "nbformat": 4,
 "nbformat_minor": 4
}
