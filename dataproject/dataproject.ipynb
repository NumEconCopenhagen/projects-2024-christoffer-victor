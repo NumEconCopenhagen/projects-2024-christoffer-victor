{
 "cells": [
  {
   "cell_type": "markdown",
   "metadata": {},
   "source": [
    "# YOUR PROJECT TITLE"
   ]
  },
  {
   "cell_type": "markdown",
   "metadata": {},
   "source": [
    "# Imports"
   ]
  },
  {
   "cell_type": "code",
   "execution_count": 3,
   "metadata": {},
   "outputs": [
    {
     "name": "stdout",
     "output_type": "stream",
     "text": [
      "The autoreload extension is already loaded. To reload it, use:\n",
      "  %reload_ext autoreload\n"
     ]
    }
   ],
   "source": [
    "import pandas as pd\n",
    "import matplotlib.pyplot as plt\n",
    "import ipywidgets as widgets\n",
    "import bqplot as bq\n",
    "from IPython.display import display\n",
    "import plotly.graph_objects as go\n",
    "\n",
    "# autoreload modules when code is run\n",
    "%load_ext autoreload\n",
    "%autoreload 2"
   ]
  },
  {
   "cell_type": "markdown",
   "metadata": {},
   "source": [
    "# Import data sets"
   ]
  },
  {
   "cell_type": "code",
   "execution_count": 4,
   "metadata": {},
   "outputs": [],
   "source": [
    "# Load the first CSV file\n",
    "df1 = pd.read_csv('National.csv', sep=\";\", decimal=\",\" )\n",
    "\n",
    "# Load the second CSV file\n",
    "df2 = pd.read_csv('Employ.csv', sep=\";\", decimal=\",\" )\n",
    "\n",
    "# Select the desired columns from the first dataset\n",
    "df1_selected = df1[['Year','Y', 'M', 'X', 'C', 'G', 'I']]\n",
    "\n",
    "# Select the desired columns from the second dataset\n",
    "df2_selected = df2[['N']]\n",
    "\n",
    "# Combine the selected columns into a new dataset\n",
    "df = pd.concat([df1_selected, df2_selected], axis=1)\n",
    "\n",
    "# Create a new column by subtracting 'M' from 'X'\n",
    "df['NX'] = df['X'] - df['M']"
   ]
  },
  {
   "cell_type": "markdown",
   "metadata": {},
   "source": [
    "# Data exploration"
   ]
  },
  {
   "cell_type": "code",
   "execution_count": 5,
   "metadata": {},
   "outputs": [
    {
     "ename": "NameError",
     "evalue": "name 'df_combined' is not defined",
     "output_type": "error",
     "traceback": [
      "\u001b[0;31m---------------------------------------------------------------------------\u001b[0m",
      "\u001b[0;31mNameError\u001b[0m                                 Traceback (most recent call last)",
      "Cell \u001b[0;32mIn[5], line 15\u001b[0m\n\u001b[1;32m     12\u001b[0m y_sc \u001b[38;5;241m=\u001b[39m bq\u001b[38;5;241m.\u001b[39mLinearScale()\n\u001b[1;32m     14\u001b[0m \u001b[38;5;66;03m# Create a line mark\u001b[39;00m\n\u001b[0;32m---> 15\u001b[0m line \u001b[38;5;241m=\u001b[39m bq\u001b[38;5;241m.\u001b[39mLines(x\u001b[38;5;241m=\u001b[39mdf_combined[\u001b[38;5;124m'\u001b[39m\u001b[38;5;124mYear\u001b[39m\u001b[38;5;124m'\u001b[39m], y\u001b[38;5;241m=\u001b[39m[], scales\u001b[38;5;241m=\u001b[39m{\u001b[38;5;124m'\u001b[39m\u001b[38;5;124mx\u001b[39m\u001b[38;5;124m'\u001b[39m: x_sc, \u001b[38;5;124m'\u001b[39m\u001b[38;5;124my\u001b[39m\u001b[38;5;124m'\u001b[39m: y_sc})\n\u001b[1;32m     17\u001b[0m \u001b[38;5;66;03m# Create axes\u001b[39;00m\n\u001b[1;32m     18\u001b[0m x_ax \u001b[38;5;241m=\u001b[39m bq\u001b[38;5;241m.\u001b[39mAxis(scale\u001b[38;5;241m=\u001b[39mx_sc)\n",
      "\u001b[0;31mNameError\u001b[0m: name 'df_combined' is not defined"
     ]
    }
   ],
   "source": [
    "# Create a dropdown menu with the variable names\n",
    "dropdown = widgets.Dropdown(options=['Y', 'C', 'G', 'I', 'NX', 'N'])\n",
    "\n",
    "# Create a dictionary that maps the original variable names to the new names\n",
    "name_dict = {'Y': 'GDP', 'C': 'Consumption', 'G': 'Public consumption', 'I': 'Investment', 'NX': 'Net exports', 'N': 'Employment level'}\n",
    "\n",
    "# Create a dictionary for the y-axis labels\n",
    "ylabel_dict = {'Y': 'Billions in DKK', 'C': 'Billions in DKK', 'G': 'Billions in DKK', 'I': 'Billions in DKK', 'NX': 'Billions in DKK', 'N': 'Thousands of people'}\n",
    "\n",
    "# Create scales for the x and y axes\n",
    "x_sc = bq.LinearScale(min=2000, max=2024)\n",
    "y_sc = bq.LinearScale()\n",
    "\n",
    "# Create a line mark\n",
    "line = bq.Lines(x=df['Year'], y=[], scales={'x': x_sc, 'y': y_sc})\n",
    "\n",
    "# Create axes\n",
    "x_ax = bq.Axis(scale=x_sc)\n",
    "y_ax = bq.Axis(scale=y_sc, label='', orientation='vertical')\n",
    "\n",
    "# Create a figure\n",
    "fig = bq.Figure(marks=[line], axes=[x_ax, y_ax], title='', layout=widgets.Layout(width='600px', height='500px'))\n",
    "\n",
    "# Create a function to update the figure\n",
    "def update_figure(change):\n",
    "    line.y = df[dropdown.value]\n",
    "    fig.title = f'{name_dict[dropdown.value]} development from 2000 to 2023'\n",
    "    y_ax.label = ylabel_dict[dropdown.value]\n",
    "\n",
    "# Update the figure when the dropdown value changes\n",
    "dropdown.observe(update_figure, 'value')\n",
    "\n",
    "# Display the dropdown and the figure\n",
    "display(dropdown)\n",
    "display(fig)\n",
    "\n",
    "# Initialize the figure\n",
    "update_figure(None)"
   ]
  },
  {
   "cell_type": "markdown",
   "metadata": {},
   "source": [
    "# Analysis"
   ]
  },
  {
   "cell_type": "code",
   "execution_count": null,
   "metadata": {},
   "outputs": [],
   "source": [
    "# Convert columns to numeric, excluding 'Year'\n",
    "for column in df.columns:\n",
    "    if column != 'Year':\n",
    "        df[column] = pd.to_numeric(df[column], errors='coerce')\n",
    "\n",
    "# Create a new DataFrame for the growth rates\n",
    "df_growth = pd.DataFrame()\n",
    "df_growth['Year'] = df['Year']\n",
    "\n",
    "# Calculate the growth rates and add them as new columns, excluding 'Year'\n",
    "for column in df.columns:\n",
    "    if column != 'Year':\n",
    "        df_growth[column + '_growth'] = df[column].pct_change() * 100  # Multiply by 100 to get percentage\n",
    "\n",
    "# Remove the year 2000 from the DataFrame\n",
    "df_growth = df_growth[df_growth['Year'] != 2000]"
   ]
  },
  {
   "cell_type": "code",
   "execution_count": null,
   "metadata": {},
   "outputs": [],
   "source": [
    "# Create a bar chart for 'Y_growth'\n",
    "fig = go.Figure(data=[\n",
    "    go.Bar(name='Y_growth', x=df_growth['Year'], y=df_growth['Y_growth'])\n",
    "])\n",
    "\n",
    "# Add traces for the other variables\n",
    "variables = ['C_growth', 'G_growth', 'I_growth', 'NX_growth', 'N_growth']\n",
    "for variable in variables:\n",
    "    fig.add_trace(\n",
    "        go.Bar(name=variable, x=df_growth['Year'], y=df_growth[variable], visible=False)\n",
    "    )\n",
    "\n",
    "# Create a dropdown menu\n",
    "buttons = []\n",
    "for i, variable in enumerate(variables):\n",
    "    visibility = [True] + [False]*i + [True] + [False]*(len(variables)-i-1)\n",
    "    buttons.append(dict(label=variable, method='update', args=[{'visible': visibility}, {'title': variable}]))\n",
    "\n",
    "fig.update_layout(\n",
    "    updatemenus=[\n",
    "        dict(\n",
    "            active=0,\n",
    "            buttons=buttons,\n",
    "        )\n",
    "    ],\n",
    ")\n",
    "\n",
    "# Set the initial title of the plot\n",
    "fig.update_layout(title=variables[0])\n",
    "\n",
    "# Show the figure\n",
    "fig.show()"
   ]
  }
 ],
 "metadata": {
  "kernelspec": {
   "display_name": "base",
   "language": "python",
   "name": "python3"
  },
  "language_info": {
   "codemirror_mode": {
    "name": "ipython",
    "version": 3
   },
   "file_extension": ".py",
   "mimetype": "text/x-python",
   "name": "python",
   "nbconvert_exporter": "python",
   "pygments_lexer": "ipython3",
   "version": "3.11.7"
  },
  "toc-autonumbering": true,
  "vscode": {
   "interpreter": {
    "hash": "47ef90cdf3004d3f859f1fb202523c65c07ba7c22eefd261b181f4744e2d0403"
   }
  }
 },
 "nbformat": 4,
 "nbformat_minor": 4
}
